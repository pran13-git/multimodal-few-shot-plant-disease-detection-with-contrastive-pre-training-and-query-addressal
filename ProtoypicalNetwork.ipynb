{
  "cells": [
    {
      "cell_type": "markdown",
      "metadata": {},
      "source": [
        "Some functions are from https://github.com/sicara/easy-few-shot-learning"
      ]
    },
    {
      "cell_type": "markdown",
      "metadata": {
        "id": "Pz5MpNd3V8ym"
      },
      "source": [
        "# Set up"
      ]
    },
    {
      "cell_type": "code",
      "execution_count": null,
      "metadata": {
        "cellView": "form",
        "id": "AjOchczPuHmm"
      },
      "outputs": [],
      "source": [
        "#@title Imports\n",
        "import torch\n",
        "from torch import nn, optim\n",
        "from torch.utils.data import DataLoader\n",
        "from tqdm import tqdm\n",
        "from torch.utils.tensorboard import SummaryWriter\n",
        "from torch import Tensor\n",
        "\n",
        "from task_sampler import TaskSampler\n",
        "import random\n",
        "import pandas as pd\n",
        "import numpy as np\n",
        "\n",
        "from typing import List, Tuple"
      ]
    },
    {
      "cell_type": "code",
      "execution_count": null,
      "metadata": {
        "colab": {
          "base_uri": "https://localhost:8080/",
          "height": 36
        },
        "id": "vT8-HfLLVzDX",
        "outputId": "9be4a688-6eab-4f9f-9f7a-40081d210fae"
      },
      "outputs": [
        {
          "data": {
            "application/vnd.google.colaboratory.intrinsic+json": {
              "type": "string"
            },
            "text/plain": [
              "'cpu'"
            ]
          },
          "execution_count": 4,
          "metadata": {},
          "output_type": "execute_result"
        }
      ],
      "source": [
        "device = \"cuda\" if torch.cuda.is_available() else \"cpu\"\n",
        "device"
      ]
    },
    {
      "cell_type": "code",
      "execution_count": null,
      "metadata": {
        "id": "baoOtBJPV5mG"
      },
      "outputs": [],
      "source": [
        "# Set seeds\n",
        "def set_seeds(seed: int=42):\n",
        "    np.random.seed(seed)\n",
        "    random.seed(seed)\n",
        "    torch.manual_seed(seed)\n",
        "    torch.cuda.manual_seed(seed)\n",
        "    torch.backends.cudnn.deterministic = True\n",
        "    torch.backends.cudnn.benchmark = False\n",
        "set_seeds()"
      ]
    },
    {
      "cell_type": "code",
      "execution_count": null,
      "metadata": {
        "id": "4Vz06BOtWKRE"
      },
      "outputs": [],
      "source": [
        "writer = SummaryWriter()"
      ]
    },
    {
      "cell_type": "markdown",
      "metadata": {
        "id": "XbqrfvnFX6hu"
      },
      "source": [
        "# Data Loading"
      ]
    },
    {
      "cell_type": "code",
      "execution_count": null,
      "metadata": {
        "id": "5nfYWAirinHT"
      },
      "outputs": [],
      "source": [
        "features = np.load(\"<feature vectors>\")\n",
        "labels = np.load('<labels.npy>')"
      ]
    },
    {
      "cell_type": "code",
      "execution_count": null,
      "metadata": {
        "id": "i9kGxkk1ltUQ"
      },
      "outputs": [],
      "source": [
        "from sklearn.preprocessing import LabelEncoder\n",
        "\n",
        "label_encoder = LabelEncoder()\n",
        "encoded_labels = label_encoder.fit_transform(labels)"
      ]
    },
    {
      "cell_type": "code",
      "execution_count": null,
      "metadata": {
        "id": "Ufm9kHBwGhIn"
      },
      "outputs": [],
      "source": [
        "def getSplits(indices, i, X, y):\n",
        "  train_ind = indices[i][0]\n",
        "  X_train = [X[i] for i in train_ind]\n",
        "  y_train = [y[i] for i in train_ind]\n",
        "\n",
        "  test_ind = indices[i][1]\n",
        "  X_test = [X[i] for i in test_ind]\n",
        "  y_test = [y[i] for i in test_ind]\n",
        "\n",
        "  return X_train, y_train, X_test, y_test"
      ]
    },
    {
      "cell_type": "code",
      "execution_count": null,
      "metadata": {
        "id": "9EXIhgmOjo-a"
      },
      "outputs": [],
      "source": [
        "from sklearn.model_selection import StratifiedKFold\n",
        "\n",
        "n_splits = 3\n",
        "skf = StratifiedKFold(n_splits=n_splits, shuffle=True, random_state=42)\n",
        "\n",
        "splits = dict()\n",
        "for i,ind in enumerate(skf.split(np.zeros(len(encoded_labels)),encoded_labels)):\n",
        "  splits[i] = ind"
      ]
    },
    {
      "cell_type": "code",
      "execution_count": null,
      "metadata": {
        "id": "dZmFxxBhsIEg"
      },
      "outputs": [],
      "source": [
        "from imblearn.pipeline import Pipeline\n",
        "from imblearn.over_sampling import SMOTE\n",
        "from collections import Counter\n",
        "\n",
        "def create_pipeline(X, y):\n",
        "    class_distribution = Counter(y)\n",
        "    print(class_distribution)\n",
        "\n",
        "    if all(count >= 5 for count in class_distribution.values()):\n",
        "        sampling_technique = SMOTE(random_state=42, k_neighbors=5, )\n",
        "        sampling_method = \"SMOTE\"\n",
        "    else:\n",
        "        sampling_technique = SMOTE(random_state=42, k_neighbors=1, )\n",
        "        sampling_method = \"SMOTE\"\n",
        "\n",
        "    pipeline = Pipeline([\n",
        "        ('sampling', sampling_technique),\n",
        "    ])\n",
        "\n",
        "    print(f\"Using {sampling_method}\")\n",
        "    return pipeline"
      ]
    },
    {
      "cell_type": "code",
      "execution_count": null,
      "metadata": {
        "colab": {
          "base_uri": "https://localhost:8080/",
          "height": 150
        },
        "id": "7zbo71jYMIY1",
        "outputId": "67da3805-9061-424c-ec31-4ae8d28a5c5f"
      },
      "outputs": [
        {
          "name": "stdout",
          "output_type": "stream",
          "text": [
            "Counter({3: 68, 9: 59, 5: 51, 1: 30, 12: 28, 10: 21, 8: 17, 4: 14, 7: 12, 11: 11, 6: 10})\n",
            "Using SMOTE\n"
          ]
        },
        {
          "data": {
            "text/html": [
              "<style>#sk-container-id-6 {\n",
              "  /* Definition of color scheme common for light and dark mode */\n",
              "  --sklearn-color-text: #000;\n",
              "  --sklearn-color-text-muted: #666;\n",
              "  --sklearn-color-line: gray;\n",
              "  /* Definition of color scheme for unfitted estimators */\n",
              "  --sklearn-color-unfitted-level-0: #fff5e6;\n",
              "  --sklearn-color-unfitted-level-1: #f6e4d2;\n",
              "  --sklearn-color-unfitted-level-2: #ffe0b3;\n",
              "  --sklearn-color-unfitted-level-3: chocolate;\n",
              "  /* Definition of color scheme for fitted estimators */\n",
              "  --sklearn-color-fitted-level-0: #f0f8ff;\n",
              "  --sklearn-color-fitted-level-1: #d4ebff;\n",
              "  --sklearn-color-fitted-level-2: #b3dbfd;\n",
              "  --sklearn-color-fitted-level-3: cornflowerblue;\n",
              "\n",
              "  /* Specific color for light theme */\n",
              "  --sklearn-color-text-on-default-background: var(--sg-text-color, var(--theme-code-foreground, var(--jp-content-font-color1, black)));\n",
              "  --sklearn-color-background: var(--sg-background-color, var(--theme-background, var(--jp-layout-color0, white)));\n",
              "  --sklearn-color-border-box: var(--sg-text-color, var(--theme-code-foreground, var(--jp-content-font-color1, black)));\n",
              "  --sklearn-color-icon: #696969;\n",
              "\n",
              "  @media (prefers-color-scheme: dark) {\n",
              "    /* Redefinition of color scheme for dark theme */\n",
              "    --sklearn-color-text-on-default-background: var(--sg-text-color, var(--theme-code-foreground, var(--jp-content-font-color1, white)));\n",
              "    --sklearn-color-background: var(--sg-background-color, var(--theme-background, var(--jp-layout-color0, #111)));\n",
              "    --sklearn-color-border-box: var(--sg-text-color, var(--theme-code-foreground, var(--jp-content-font-color1, white)));\n",
              "    --sklearn-color-icon: #878787;\n",
              "  }\n",
              "}\n",
              "\n",
              "#sk-container-id-6 {\n",
              "  color: var(--sklearn-color-text);\n",
              "}\n",
              "\n",
              "#sk-container-id-6 pre {\n",
              "  padding: 0;\n",
              "}\n",
              "\n",
              "#sk-container-id-6 input.sk-hidden--visually {\n",
              "  border: 0;\n",
              "  clip: rect(1px 1px 1px 1px);\n",
              "  clip: rect(1px, 1px, 1px, 1px);\n",
              "  height: 1px;\n",
              "  margin: -1px;\n",
              "  overflow: hidden;\n",
              "  padding: 0;\n",
              "  position: absolute;\n",
              "  width: 1px;\n",
              "}\n",
              "\n",
              "#sk-container-id-6 div.sk-dashed-wrapped {\n",
              "  border: 1px dashed var(--sklearn-color-line);\n",
              "  margin: 0 0.4em 0.5em 0.4em;\n",
              "  box-sizing: border-box;\n",
              "  padding-bottom: 0.4em;\n",
              "  background-color: var(--sklearn-color-background);\n",
              "}\n",
              "\n",
              "#sk-container-id-6 div.sk-container {\n",
              "  /* jupyter's `normalize.less` sets `[hidden] { display: none; }`\n",
              "     but bootstrap.min.css set `[hidden] { display: none !important; }`\n",
              "     so we also need the `!important` here to be able to override the\n",
              "     default hidden behavior on the sphinx rendered scikit-learn.org.\n",
              "     See: https://github.com/scikit-learn/scikit-learn/issues/21755 */\n",
              "  display: inline-block !important;\n",
              "  position: relative;\n",
              "}\n",
              "\n",
              "#sk-container-id-6 div.sk-text-repr-fallback {\n",
              "  display: none;\n",
              "}\n",
              "\n",
              "div.sk-parallel-item,\n",
              "div.sk-serial,\n",
              "div.sk-item {\n",
              "  /* draw centered vertical line to link estimators */\n",
              "  background-image: linear-gradient(var(--sklearn-color-text-on-default-background), var(--sklearn-color-text-on-default-background));\n",
              "  background-size: 2px 100%;\n",
              "  background-repeat: no-repeat;\n",
              "  background-position: center center;\n",
              "}\n",
              "\n",
              "/* Parallel-specific style estimator block */\n",
              "\n",
              "#sk-container-id-6 div.sk-parallel-item::after {\n",
              "  content: \"\";\n",
              "  width: 100%;\n",
              "  border-bottom: 2px solid var(--sklearn-color-text-on-default-background);\n",
              "  flex-grow: 1;\n",
              "}\n",
              "\n",
              "#sk-container-id-6 div.sk-parallel {\n",
              "  display: flex;\n",
              "  align-items: stretch;\n",
              "  justify-content: center;\n",
              "  background-color: var(--sklearn-color-background);\n",
              "  position: relative;\n",
              "}\n",
              "\n",
              "#sk-container-id-6 div.sk-parallel-item {\n",
              "  display: flex;\n",
              "  flex-direction: column;\n",
              "}\n",
              "\n",
              "#sk-container-id-6 div.sk-parallel-item:first-child::after {\n",
              "  align-self: flex-end;\n",
              "  width: 50%;\n",
              "}\n",
              "\n",
              "#sk-container-id-6 div.sk-parallel-item:last-child::after {\n",
              "  align-self: flex-start;\n",
              "  width: 50%;\n",
              "}\n",
              "\n",
              "#sk-container-id-6 div.sk-parallel-item:only-child::after {\n",
              "  width: 0;\n",
              "}\n",
              "\n",
              "/* Serial-specific style estimator block */\n",
              "\n",
              "#sk-container-id-6 div.sk-serial {\n",
              "  display: flex;\n",
              "  flex-direction: column;\n",
              "  align-items: center;\n",
              "  background-color: var(--sklearn-color-background);\n",
              "  padding-right: 1em;\n",
              "  padding-left: 1em;\n",
              "}\n",
              "\n",
              "\n",
              "/* Toggleable style: style used for estimator/Pipeline/ColumnTransformer box that is\n",
              "clickable and can be expanded/collapsed.\n",
              "- Pipeline and ColumnTransformer use this feature and define the default style\n",
              "- Estimators will overwrite some part of the style using the `sk-estimator` class\n",
              "*/\n",
              "\n",
              "/* Pipeline and ColumnTransformer style (default) */\n",
              "\n",
              "#sk-container-id-6 div.sk-toggleable {\n",
              "  /* Default theme specific background. It is overwritten whether we have a\n",
              "  specific estimator or a Pipeline/ColumnTransformer */\n",
              "  background-color: var(--sklearn-color-background);\n",
              "}\n",
              "\n",
              "/* Toggleable label */\n",
              "#sk-container-id-6 label.sk-toggleable__label {\n",
              "  cursor: pointer;\n",
              "  display: flex;\n",
              "  width: 100%;\n",
              "  margin-bottom: 0;\n",
              "  padding: 0.5em;\n",
              "  box-sizing: border-box;\n",
              "  text-align: center;\n",
              "  align-items: start;\n",
              "  justify-content: space-between;\n",
              "  gap: 0.5em;\n",
              "}\n",
              "\n",
              "#sk-container-id-6 label.sk-toggleable__label .caption {\n",
              "  font-size: 0.6rem;\n",
              "  font-weight: lighter;\n",
              "  color: var(--sklearn-color-text-muted);\n",
              "}\n",
              "\n",
              "#sk-container-id-6 label.sk-toggleable__label-arrow:before {\n",
              "  /* Arrow on the left of the label */\n",
              "  content: \"▸\";\n",
              "  float: left;\n",
              "  margin-right: 0.25em;\n",
              "  color: var(--sklearn-color-icon);\n",
              "}\n",
              "\n",
              "#sk-container-id-6 label.sk-toggleable__label-arrow:hover:before {\n",
              "  color: var(--sklearn-color-text);\n",
              "}\n",
              "\n",
              "/* Toggleable content - dropdown */\n",
              "\n",
              "#sk-container-id-6 div.sk-toggleable__content {\n",
              "  max-height: 0;\n",
              "  max-width: 0;\n",
              "  overflow: hidden;\n",
              "  text-align: left;\n",
              "  /* unfitted */\n",
              "  background-color: var(--sklearn-color-unfitted-level-0);\n",
              "}\n",
              "\n",
              "#sk-container-id-6 div.sk-toggleable__content.fitted {\n",
              "  /* fitted */\n",
              "  background-color: var(--sklearn-color-fitted-level-0);\n",
              "}\n",
              "\n",
              "#sk-container-id-6 div.sk-toggleable__content pre {\n",
              "  margin: 0.2em;\n",
              "  border-radius: 0.25em;\n",
              "  color: var(--sklearn-color-text);\n",
              "  /* unfitted */\n",
              "  background-color: var(--sklearn-color-unfitted-level-0);\n",
              "}\n",
              "\n",
              "#sk-container-id-6 div.sk-toggleable__content.fitted pre {\n",
              "  /* unfitted */\n",
              "  background-color: var(--sklearn-color-fitted-level-0);\n",
              "}\n",
              "\n",
              "#sk-container-id-6 input.sk-toggleable__control:checked~div.sk-toggleable__content {\n",
              "  /* Expand drop-down */\n",
              "  max-height: 200px;\n",
              "  max-width: 100%;\n",
              "  overflow: auto;\n",
              "}\n",
              "\n",
              "#sk-container-id-6 input.sk-toggleable__control:checked~label.sk-toggleable__label-arrow:before {\n",
              "  content: \"▾\";\n",
              "}\n",
              "\n",
              "/* Pipeline/ColumnTransformer-specific style */\n",
              "\n",
              "#sk-container-id-6 div.sk-label input.sk-toggleable__control:checked~label.sk-toggleable__label {\n",
              "  color: var(--sklearn-color-text);\n",
              "  background-color: var(--sklearn-color-unfitted-level-2);\n",
              "}\n",
              "\n",
              "#sk-container-id-6 div.sk-label.fitted input.sk-toggleable__control:checked~label.sk-toggleable__label {\n",
              "  background-color: var(--sklearn-color-fitted-level-2);\n",
              "}\n",
              "\n",
              "/* Estimator-specific style */\n",
              "\n",
              "/* Colorize estimator box */\n",
              "#sk-container-id-6 div.sk-estimator input.sk-toggleable__control:checked~label.sk-toggleable__label {\n",
              "  /* unfitted */\n",
              "  background-color: var(--sklearn-color-unfitted-level-2);\n",
              "}\n",
              "\n",
              "#sk-container-id-6 div.sk-estimator.fitted input.sk-toggleable__control:checked~label.sk-toggleable__label {\n",
              "  /* fitted */\n",
              "  background-color: var(--sklearn-color-fitted-level-2);\n",
              "}\n",
              "\n",
              "#sk-container-id-6 div.sk-label label.sk-toggleable__label,\n",
              "#sk-container-id-6 div.sk-label label {\n",
              "  /* The background is the default theme color */\n",
              "  color: var(--sklearn-color-text-on-default-background);\n",
              "}\n",
              "\n",
              "/* On hover, darken the color of the background */\n",
              "#sk-container-id-6 div.sk-label:hover label.sk-toggleable__label {\n",
              "  color: var(--sklearn-color-text);\n",
              "  background-color: var(--sklearn-color-unfitted-level-2);\n",
              "}\n",
              "\n",
              "/* Label box, darken color on hover, fitted */\n",
              "#sk-container-id-6 div.sk-label.fitted:hover label.sk-toggleable__label.fitted {\n",
              "  color: var(--sklearn-color-text);\n",
              "  background-color: var(--sklearn-color-fitted-level-2);\n",
              "}\n",
              "\n",
              "/* Estimator label */\n",
              "\n",
              "#sk-container-id-6 div.sk-label label {\n",
              "  font-family: monospace;\n",
              "  font-weight: bold;\n",
              "  display: inline-block;\n",
              "  line-height: 1.2em;\n",
              "}\n",
              "\n",
              "#sk-container-id-6 div.sk-label-container {\n",
              "  text-align: center;\n",
              "}\n",
              "\n",
              "/* Estimator-specific */\n",
              "#sk-container-id-6 div.sk-estimator {\n",
              "  font-family: monospace;\n",
              "  border: 1px dotted var(--sklearn-color-border-box);\n",
              "  border-radius: 0.25em;\n",
              "  box-sizing: border-box;\n",
              "  margin-bottom: 0.5em;\n",
              "  /* unfitted */\n",
              "  background-color: var(--sklearn-color-unfitted-level-0);\n",
              "}\n",
              "\n",
              "#sk-container-id-6 div.sk-estimator.fitted {\n",
              "  /* fitted */\n",
              "  background-color: var(--sklearn-color-fitted-level-0);\n",
              "}\n",
              "\n",
              "/* on hover */\n",
              "#sk-container-id-6 div.sk-estimator:hover {\n",
              "  /* unfitted */\n",
              "  background-color: var(--sklearn-color-unfitted-level-2);\n",
              "}\n",
              "\n",
              "#sk-container-id-6 div.sk-estimator.fitted:hover {\n",
              "  /* fitted */\n",
              "  background-color: var(--sklearn-color-fitted-level-2);\n",
              "}\n",
              "\n",
              "/* Specification for estimator info (e.g. \"i\" and \"?\") */\n",
              "\n",
              "/* Common style for \"i\" and \"?\" */\n",
              "\n",
              ".sk-estimator-doc-link,\n",
              "a:link.sk-estimator-doc-link,\n",
              "a:visited.sk-estimator-doc-link {\n",
              "  float: right;\n",
              "  font-size: smaller;\n",
              "  line-height: 1em;\n",
              "  font-family: monospace;\n",
              "  background-color: var(--sklearn-color-background);\n",
              "  border-radius: 1em;\n",
              "  height: 1em;\n",
              "  width: 1em;\n",
              "  text-decoration: none !important;\n",
              "  margin-left: 0.5em;\n",
              "  text-align: center;\n",
              "  /* unfitted */\n",
              "  border: var(--sklearn-color-unfitted-level-1) 1pt solid;\n",
              "  color: var(--sklearn-color-unfitted-level-1);\n",
              "}\n",
              "\n",
              ".sk-estimator-doc-link.fitted,\n",
              "a:link.sk-estimator-doc-link.fitted,\n",
              "a:visited.sk-estimator-doc-link.fitted {\n",
              "  /* fitted */\n",
              "  border: var(--sklearn-color-fitted-level-1) 1pt solid;\n",
              "  color: var(--sklearn-color-fitted-level-1);\n",
              "}\n",
              "\n",
              "/* On hover */\n",
              "div.sk-estimator:hover .sk-estimator-doc-link:hover,\n",
              ".sk-estimator-doc-link:hover,\n",
              "div.sk-label-container:hover .sk-estimator-doc-link:hover,\n",
              ".sk-estimator-doc-link:hover {\n",
              "  /* unfitted */\n",
              "  background-color: var(--sklearn-color-unfitted-level-3);\n",
              "  color: var(--sklearn-color-background);\n",
              "  text-decoration: none;\n",
              "}\n",
              "\n",
              "div.sk-estimator.fitted:hover .sk-estimator-doc-link.fitted:hover,\n",
              ".sk-estimator-doc-link.fitted:hover,\n",
              "div.sk-label-container:hover .sk-estimator-doc-link.fitted:hover,\n",
              ".sk-estimator-doc-link.fitted:hover {\n",
              "  /* fitted */\n",
              "  background-color: var(--sklearn-color-fitted-level-3);\n",
              "  color: var(--sklearn-color-background);\n",
              "  text-decoration: none;\n",
              "}\n",
              "\n",
              "/* Span, style for the box shown on hovering the info icon */\n",
              ".sk-estimator-doc-link span {\n",
              "  display: none;\n",
              "  z-index: 9999;\n",
              "  position: relative;\n",
              "  font-weight: normal;\n",
              "  right: .2ex;\n",
              "  padding: .5ex;\n",
              "  margin: .5ex;\n",
              "  width: min-content;\n",
              "  min-width: 20ex;\n",
              "  max-width: 50ex;\n",
              "  color: var(--sklearn-color-text);\n",
              "  box-shadow: 2pt 2pt 4pt #999;\n",
              "  /* unfitted */\n",
              "  background: var(--sklearn-color-unfitted-level-0);\n",
              "  border: .5pt solid var(--sklearn-color-unfitted-level-3);\n",
              "}\n",
              "\n",
              ".sk-estimator-doc-link.fitted span {\n",
              "  /* fitted */\n",
              "  background: var(--sklearn-color-fitted-level-0);\n",
              "  border: var(--sklearn-color-fitted-level-3);\n",
              "}\n",
              "\n",
              ".sk-estimator-doc-link:hover span {\n",
              "  display: block;\n",
              "}\n",
              "\n",
              "/* \"?\"-specific style due to the `<a>` HTML tag */\n",
              "\n",
              "#sk-container-id-6 a.estimator_doc_link {\n",
              "  float: right;\n",
              "  font-size: 1rem;\n",
              "  line-height: 1em;\n",
              "  font-family: monospace;\n",
              "  background-color: var(--sklearn-color-background);\n",
              "  border-radius: 1rem;\n",
              "  height: 1rem;\n",
              "  width: 1rem;\n",
              "  text-decoration: none;\n",
              "  /* unfitted */\n",
              "  color: var(--sklearn-color-unfitted-level-1);\n",
              "  border: var(--sklearn-color-unfitted-level-1) 1pt solid;\n",
              "}\n",
              "\n",
              "#sk-container-id-6 a.estimator_doc_link.fitted {\n",
              "  /* fitted */\n",
              "  border: var(--sklearn-color-fitted-level-1) 1pt solid;\n",
              "  color: var(--sklearn-color-fitted-level-1);\n",
              "}\n",
              "\n",
              "/* On hover */\n",
              "#sk-container-id-6 a.estimator_doc_link:hover {\n",
              "  /* unfitted */\n",
              "  background-color: var(--sklearn-color-unfitted-level-3);\n",
              "  color: var(--sklearn-color-background);\n",
              "  text-decoration: none;\n",
              "}\n",
              "\n",
              "#sk-container-id-6 a.estimator_doc_link.fitted:hover {\n",
              "  /* fitted */\n",
              "  background-color: var(--sklearn-color-fitted-level-3);\n",
              "}\n",
              "</style><div id=\"sk-container-id-6\" class=\"sk-top-container\"><div class=\"sk-text-repr-fallback\"><pre>Pipeline(steps=[(&#x27;sampling&#x27;, SMOTE(random_state=42))])</pre><b>In a Jupyter environment, please rerun this cell to show the HTML representation or trust the notebook. <br />On GitHub, the HTML representation is unable to render, please try loading this page with nbviewer.org.</b></div><div class=\"sk-container\" hidden><div class=\"sk-item sk-dashed-wrapped\"><div class=\"sk-label-container\"><div class=\"sk-label fitted sk-toggleable\"><input class=\"sk-toggleable__control sk-hidden--visually\" id=\"sk-estimator-id-11\" type=\"checkbox\" ><label for=\"sk-estimator-id-11\" class=\"sk-toggleable__label fitted sk-toggleable__label-arrow\"><div><div>Pipeline</div></div><div><span class=\"sk-estimator-doc-link fitted\">i<span>Fitted</span></span></div></label><div class=\"sk-toggleable__content fitted\"><pre>Pipeline(steps=[(&#x27;sampling&#x27;, SMOTE(random_state=42))])</pre></div> </div></div><div class=\"sk-serial\"><div class=\"sk-item\"><div class=\"sk-estimator fitted sk-toggleable\"><input class=\"sk-toggleable__control sk-hidden--visually\" id=\"sk-estimator-id-12\" type=\"checkbox\" ><label for=\"sk-estimator-id-12\" class=\"sk-toggleable__label fitted sk-toggleable__label-arrow\"><div><div>SMOTE</div></div></label><div class=\"sk-toggleable__content fitted\"><pre>SMOTE(random_state=42)</pre></div> </div></div></div></div></div></div>"
            ],
            "text/plain": [
              "Pipeline(steps=[('sampling', SMOTE(random_state=42))])"
            ]
          },
          "execution_count": 329,
          "metadata": {},
          "output_type": "execute_result"
        }
      ],
      "source": [
        "pipeline = create_pipeline(features, encoded_labels)\n",
        "pipeline.fit(features, encoded_labels)"
      ]
    },
    {
      "cell_type": "code",
      "execution_count": null,
      "metadata": {
        "colab": {
          "base_uri": "https://localhost:8080/"
        },
        "id": "p2v5qa65sexh",
        "outputId": "1ae90fd1-fad3-45b8-9399-2c15533c3b41"
      },
      "outputs": [
        {
          "name": "stdout",
          "output_type": "stream",
          "text": [
            "Class distribution after resampling: Counter({7: 68, 8: 68, 3: 68, 5: 68, 12: 68, 11: 68, 10: 68, 9: 68, 1: 68, 4: 68, 6: 68})\n"
          ]
        }
      ],
      "source": [
        "X, y = pipeline.named_steps['sampling'].fit_resample(features, encoded_labels)\n",
        "\n",
        "print(\"Class distribution after resampling:\", Counter(y))"
      ]
    },
    {
      "cell_type": "code",
      "execution_count": null,
      "metadata": {
        "id": "1fnoS9pDxbLA"
      },
      "outputs": [],
      "source": [
        "maps = dict(zip(range(len(label_encoder.classes_)),label_encoder.classes_))\n",
        "\n",
        "class DiseaseDataset():\n",
        "    def __init__(\n",
        "        self,\n",
        "        X_train,\n",
        "        y_train\n",
        "    ):\n",
        "\n",
        "        self.data = X_train\n",
        "        self.labels = y_train\n",
        "        self.class_names = [maps[i] for i in y_train]\n",
        "\n",
        "    def __getitem__(self, item: int) -> Tuple[Tensor, int]:\n",
        "\n",
        "        img = self.data[item]\n",
        "        label = self.labels[item]\n",
        "\n",
        "        return torch.Tensor(img), int(label)\n",
        "\n",
        "    def __len__(self) -> int:\n",
        "        return len(self.data)\n",
        "\n",
        "    def get_labels(self) -> List[int]:\n",
        "        return self.labels"
      ]
    },
    {
      "cell_type": "markdown",
      "metadata": {
        "id": "weR58S59Yc8f"
      },
      "source": [
        "# Model Defintion"
      ]
    },
    {
      "cell_type": "code",
      "execution_count": null,
      "metadata": {
        "id": "vcg3T-KdYjyQ"
      },
      "outputs": [],
      "source": [
        "#@title Prototypical Network \n",
        "\n",
        "class ModelV0(nn.Module):\n",
        "    def __init__(self):\n",
        "        super().__init__()\n",
        "        self.layer_1 = nn.Linear(in_features=4096, out_features=2048)\n",
        "        self.layer_2 = nn.Linear(in_features=2048, out_features=1024)\n",
        "        self.relu = nn.ReLU(inplace=True)\n",
        "\n",
        "    def forward(self, x):\n",
        "        x = self.layer_1(x)\n",
        "        x = self.layer_2(x)\n",
        "        x = self.relu(x)\n",
        "        return x\n",
        "\n",
        "class PrototypicalNetworks(nn.Module):\n",
        "    def __init__(self, backbone: nn.Module):\n",
        "        super(PrototypicalNetworks, self).__init__()\n",
        "        self.backbone = backbone\n",
        "\n",
        "    def forward(\n",
        "        self,\n",
        "        support_images: torch.Tensor,\n",
        "        support_labels: torch.Tensor,\n",
        "        query_images: torch.Tensor,\n",
        "    ) -> torch.Tensor:\n",
        "        \"\"\"\n",
        "        Predict query labels using labeled support images.\n",
        "        \"\"\"\n",
        "        z_support = self.backbone.forward(support_images)\n",
        "        z_query = self.backbone.forward(query_images)\n",
        "\n",
        "        n_way = len(torch.unique(support_labels))\n",
        "\n",
        "        z_proto = torch.cat(\n",
        "            [\n",
        "                z_support[torch.nonzero(support_labels == label)].mean(0)\n",
        "                for label in range(n_way)\n",
        "            ]\n",
        "        )\n",
        "\n",
        "        dists = torch.cdist(z_query, z_proto)\n",
        "        scores = -dists\n",
        "\n",
        "        return scores"
      ]
    },
    {
      "cell_type": "markdown",
      "metadata": {
        "id": "EuX21n91YMO6"
      },
      "source": [
        "# Function Definitions"
      ]
    },
    {
      "cell_type": "code",
      "execution_count": null,
      "metadata": {
        "id": "cLVVcJXgYwhR"
      },
      "outputs": [],
      "source": [
        "def evaluate_on_one_task( support_images: torch.Tensor, support_labels: torch.Tensor, query_images: torch.Tensor, query_labels: torch.Tensor,) -> [int, int]:\n",
        "\n",
        "    return (\n",
        "        torch.max(\n",
        "            model(support_images.to(device), support_labels.to(device), query_images.to(device))\n",
        "            .detach()\n",
        "            .data,\n",
        "            1,\n",
        "        )[1]\n",
        "        == query_labels.to(device)\n",
        "    ).sum().item(), len(query_labels)\n",
        "\n",
        "\n",
        "def evaluate(data_loader: DataLoader):\n",
        "    total_predictions = 0\n",
        "    correct_predictions = 0\n",
        "\n",
        "    model.eval()\n",
        "    with torch.no_grad():\n",
        "        for episode_index, (\n",
        "            support_images,\n",
        "            support_labels,\n",
        "            query_images,\n",
        "            query_labels,\n",
        "            class_ids,\n",
        "        ) in tqdm(enumerate(data_loader), total=len(data_loader)):\n",
        "\n",
        "            correct, total = evaluate_on_one_task(\n",
        "                support_images, support_labels, query_images, query_labels\n",
        "            )\n",
        "\n",
        "            total_predictions += total\n",
        "            correct_predictions += correct\n",
        "\n",
        "    print(\n",
        "        f\"Model tested on {len(data_loader)} tasks. Accuracy: {(100 * correct_predictions/total_predictions):.2f}%\"\n",
        "    )\n"
      ]
    },
    {
      "cell_type": "code",
      "execution_count": null,
      "metadata": {
        "id": "Fl5A8WfcY5In"
      },
      "outputs": [],
      "source": [
        "def fit(\n",
        "    support_images: torch.Tensor,\n",
        "    support_labels: torch.Tensor,\n",
        "    query_images: torch.Tensor,\n",
        "    query_labels: torch.Tensor,\n",
        ") -> float:\n",
        "    optimizer.zero_grad()\n",
        "\n",
        "    classification_scores = model(\n",
        "        support_images.to(device), support_labels.to(device), query_images.to(device)\n",
        "    )\n",
        "\n",
        "    flat_classification_scores = classification_scores.view(-1, classification_scores.size(-1))\n",
        "    flat_query_labels = query_labels.view(-1)\n",
        "\n",
        "    loss = criterion(flat_classification_scores, flat_query_labels.to(device))\n",
        "\n",
        "    loss.backward()\n",
        "    optimizer.step()\n",
        "\n",
        "    return loss.item()"
      ]
    },
    {
      "cell_type": "code",
      "execution_count": null,
      "metadata": {
        "id": "WSNs9ziIZNoq"
      },
      "outputs": [],
      "source": [
        "def sliding_average(value_list: List[float], window: int) -> float:\n",
        "    \"\"\"\n",
        "    Computes the average of the latest instances in a list\n",
        "    Args:\n",
        "        value_list: input list of floats (can't be empty)\n",
        "        window: number of instances to take into account. If value is 0 or greater than\n",
        "            the length of value_list, all instances will be taken into account.\n",
        "\n",
        "    Returns:\n",
        "        average of the last window instances in value_list\n",
        "\n",
        "    Raises:\n",
        "        ValueError: if the input list is empty\n",
        "    \"\"\"\n",
        "    if len(value_list) == 0:\n",
        "        raise ValueError(\"Cannot perform sliding average on an empty list.\")\n",
        "    return np.asarray(value_list[-window:]).mean()"
      ]
    },
    {
      "cell_type": "code",
      "execution_count": null,
      "metadata": {
        "id": "uje3_zPJZgG8"
      },
      "outputs": [],
      "source": [
        "def train(model,train_loader):\n",
        "\n",
        "  log_update_frequency = 10\n",
        "\n",
        "  all_loss = []\n",
        "  model.train()\n",
        "  with tqdm(enumerate(train_loader), total=len(train_loader)) as tqdm_train:\n",
        "      for episode_index, (\n",
        "          support_images,\n",
        "          support_labels,\n",
        "          query_images,\n",
        "          query_labels,\n",
        "          _,\n",
        "      ) in tqdm_train:\n",
        "\n",
        "\n",
        "          loss_value = fit(support_images, support_labels, query_images, query_labels)\n",
        "          all_loss.append(loss_value)\n",
        "\n",
        "          if episode_index % log_update_frequency == 0:\n",
        "              tqdm_train.set_postfix(loss=sliding_average(all_loss, log_update_frequency))\n",
        "\n",
        "          writer.add_scalars(main_tag=\"Loss\",\n",
        "                            tag_scalar_dict={\"train_loss\": loss_value},\n",
        "                            global_step=episode_index)\n",
        "\n",
        "  writer.close()"
      ]
    },
    {
      "cell_type": "markdown",
      "metadata": {
        "id": "j52MSZSSZ8WF"
      },
      "source": [
        "# Training"
      ]
    },
    {
      "cell_type": "code",
      "execution_count": null,
      "metadata": {},
      "outputs": [],
      "source": [
        "N_WAY = 3  \n",
        "N_SHOT = 1  \n",
        "N_QUERY = 2  \n",
        "N_EVALUATION_TASKS = 100\n",
        "N_TRAINING_EPISODES = 1500\n",
        "N_VALIDATION_TASKS = 100"
      ]
    },
    {
      "cell_type": "code",
      "execution_count": null,
      "metadata": {},
      "outputs": [],
      "source": [
        "def calculate_prototypes(X, y):\n",
        "  prototypes = {}\n",
        "  for label in np.unique(y):\n",
        "    indx = np.where(y == label)\n",
        "    result_list = []\n",
        "\n",
        "    # Iterate over indices\n",
        "    for i in indx[0]:\n",
        "        vec = model.backbone.forward(Tensor(X[i]))\n",
        "        # print(vec.shape)\n",
        "        result_list.append(vec.detach().numpy())\n",
        "\n",
        "    # Compute the mean of all the vectors\n",
        "    mean_vector = np.mean(result_list, axis=0)\n",
        "    prototypes[str(label)] = mean_vector.tolist()\n",
        "\n",
        "  return prototypes\n",
        "\n",
        "def euclidean_distance(x1, x2):\n",
        "    return np.sqrt(np.sum((x1 - x2)**2))\n",
        "\n",
        "\n",
        "def predict_classes(X_test, prototypes):\n",
        "    y_pred = []\n",
        "    for sample in X_test:\n",
        "        min_distance = float('inf')\n",
        "        predicted_class = None\n",
        "        vec = model.backbone.forward(Tensor(sample))\n",
        "        vec = vec.detach().numpy()\n",
        "        for cls, prototype in prototypes.items():\n",
        "            distance = euclidean_distance(vec, prototype)\n",
        "            if distance < min_distance:\n",
        "                min_distance = distance\n",
        "                predicted_class = cls\n",
        "        y_pred.append(int(predicted_class))\n",
        "    return np.array(y_pred)"
      ]
    },
    {
      "cell_type": "code",
      "execution_count": null,
      "metadata": {},
      "outputs": [],
      "source": [
        "from sklearn.metrics import precision_score, recall_score, silhouette_score,classification_report, f1_score, accuracy_score\n",
        "\n",
        "def getScores(X_test, y_test):\n",
        "    y_pred = predict_classes(X_test, calculate_prototypes(X_test, y_test))\n",
        "\n",
        "    accuracy = accuracy_score(y_test, y_pred)\n",
        "    print(\"Accuracy:\", accuracy)\n",
        "\n",
        "    f1 = f1_score(y_test, y_pred, average='weighted')  # You can choose average='micro', 'macro', 'weighted', or None\n",
        "    print(\"F1 Score:\", f1)\n",
        "\n",
        "    precision = precision_score(y_test, y_pred, average='weighted')\n",
        "    print(\"Precision:\", precision)\n",
        "\n",
        "    recall = recall_score(y_test, y_pred, average='weighted')\n",
        "    print(\"Recall:\", recall)\n",
        "\n",
        "    print(classification_report(y_test, y_pred))"
      ]
    },
    {
      "cell_type": "code",
      "execution_count": null,
      "metadata": {},
      "outputs": [],
      "source": [
        "for fold in range(3):\n",
        "    X_train, y_train, X_test, y_test = getSplits(splits, fold, X,y)\n",
        "    train_set = DiseaseDataset(X_train,y_train)\n",
        "\n",
        "    train_sampler = TaskSampler(\n",
        "    train_set, n_way=N_WAY, n_shot=N_SHOT, n_query=N_QUERY, n_tasks=N_TRAINING_EPISODES\n",
        "    )\n",
        "    train_loader = DataLoader(\n",
        "        train_set,\n",
        "        batch_sampler=train_sampler,\n",
        "        num_workers=2,\n",
        "\n",
        "        pin_memory=True,\n",
        "        collate_fn=train_sampler.episodic_collate_fn,\n",
        "    )\n",
        "\n",
        "    convolutional_network =  ModelV0()\n",
        "    convolutional_network.fc = nn.Flatten()\n",
        "    model = PrototypicalNetworks(convolutional_network).to(device)\n",
        "    criterion = nn.CrossEntropyLoss()\n",
        "    optimizer = optim.Adam(model.parameters(), lr=0.0001)\n",
        "\n",
        "    train(model,train_loader)\n",
        "\n",
        "    test_set = DiseaseDataset(X_test, y_test)\n",
        "    test_sampler = TaskSampler(\n",
        "        test_set, n_way=N_WAY, n_shot=N_SHOT, n_query=N_QUERY, n_tasks=N_EVALUATION_TASKS\n",
        "    )\n",
        "\n",
        "    test_loader = DataLoader(\n",
        "        test_set,\n",
        "        batch_sampler=test_sampler,\n",
        "        num_workers=2,\n",
        "        pin_memory=True,\n",
        "        collate_fn=test_sampler.episodic_collate_fn,\n",
        "    )\n",
        "\n",
        "    evaluate(test_loader)\n",
        "\n",
        "    print(f\"Metrics for fold {fold}\")\n",
        "    getScores(X_test, y_test)\n"
      ]
    },
    {
      "cell_type": "markdown",
      "metadata": {
        "id": "n1KHYDQlmDfB"
      },
      "source": [
        "# Visualization"
      ]
    },
    {
      "cell_type": "code",
      "execution_count": null,
      "metadata": {
        "id": "sTdQezyihKso"
      },
      "outputs": [],
      "source": [
        "def get_embeddings(X,y):\n",
        "  prototypes = {}\n",
        "  for label in np.unique(y):\n",
        "    indx = np.where(y == label)\n",
        "    result_list = []\n",
        "\n",
        "    for i in indx[0]:\n",
        "        vec = model.backbone.forward(Tensor(X[i]))\n",
        "        # print(vec.shape)\n",
        "        result_list.append(vec.detach().numpy())\n",
        "\n",
        "    # Compute the mean of all the vectors\n",
        "    mean_vector = np.mean(result_list, axis=0)\n",
        "    prototypes[label] = dict()\n",
        "    prototypes[label][\"prototype\"] = mean_vector\n",
        "    prototypes[label][\"vals\"] = result_list\n",
        "\n",
        "  return prototypes\n"
      ]
    },
    {
      "cell_type": "code",
      "execution_count": null,
      "metadata": {
        "id": "B4q3rryVhi0b"
      },
      "outputs": [],
      "source": [
        "train_prototypes, test_prototypes = get_embeddings(X_train,y_train), get_embeddings(X_test,y_test)"
      ]
    },
    {
      "cell_type": "code",
      "execution_count": null,
      "metadata": {
        "id": "3ddZxX0oGEr6"
      },
      "outputs": [],
      "source": [
        "train_values = [vec for i in train_prototypes.values() for vec in i[\"vals\"]]\n",
        "test_values = [vec for i in test_prototypes.values() for vec in i[\"vals\"]]\n",
        "\n",
        "train_labels = [k for k, v in train_prototypes.items() for _ in range(len(v[\"vals\"]))]\n",
        "test_labels = [k for k, v in test_prototypes.items() for _ in range(len(v[\"vals\"]))]"
      ]
    },
    {
      "cell_type": "code",
      "execution_count": null,
      "metadata": {
        "colab": {
          "base_uri": "https://localhost:8080/"
        },
        "id": "BHWGfdVpF5bc",
        "outputId": "a78d4734-f554-438e-ea47-899886483a7e"
      },
      "outputs": [
        {
          "name": "stderr",
          "output_type": "stream",
          "text": [
            "/usr/local/lib/python3.11/dist-packages/sklearn/manifold/_t_sne.py:1164: FutureWarning: 'n_iter' was renamed to 'max_iter' in version 1.5 and will be removed in 1.7.\n",
            "  warnings.warn(\n",
            "/usr/local/lib/python3.11/dist-packages/sklearn/manifold/_t_sne.py:1164: FutureWarning: 'n_iter' was renamed to 'max_iter' in version 1.5 and will be removed in 1.7.\n",
            "  warnings.warn(\n"
          ]
        }
      ],
      "source": [
        "from sklearn.manifold import TSNE\n",
        "\n",
        "tsne = TSNE(random_state = 0, n_iter = 1000, metric = 'cosine')\n",
        "\n",
        "embeddings2d_train = tsne.fit_transform(np.array(train_values))\n",
        "embeddingsdf_train = pd.DataFrame()\n",
        "embeddingsdf_train['labels'] = train_labels\n",
        "embeddingsdf_train['x'] = embeddings2d_train[:,0]\n",
        "embeddingsdf_train['y'] = embeddings2d_train[:,1]\n",
        "\n",
        "\n",
        "embeddings2d_test = tsne.fit_transform(np.array(test_values))\n",
        "embeddingsdf_test = pd.DataFrame()\n",
        "embeddingsdf_test['labels'] = test_labels\n",
        "embeddingsdf_test['x'] = embeddings2d_test[:,0]\n",
        "embeddingsdf_test['y'] = embeddings2d_test[:,1]\n",
        "\n"
      ]
    },
    {
      "cell_type": "code",
      "execution_count": null,
      "metadata": {
        "colab": {
          "base_uri": "https://localhost:8080/",
          "height": 699
        },
        "id": "wgO5lgkjIoNd",
        "outputId": "5ef940b7-4e94-43c1-acd3-1cdda2b33251"
      },
      "outputs": [
        {
          "data": {
            "image/png": "[encoded data removed]",
            "text/plain": [
              "<Figure size 1000x800 with 1 Axes>"
            ]
          },
          "metadata": {},
          "output_type": "display_data"
        }
      ],
      "source": [
        "import matplotlib.pyplot as plt\n",
        "import matplotlib.colors as mcolors\n",
        "\n",
        "fig, ax = plt.subplots(figsize=(10, 8))\n",
        "\n",
        "cmap = mcolors.ListedColormap([plt.cm.tab10(i/float(len(embeddingsdf_test['labels'].unique())-1)) for i in range(len(embeddingsdf_test['labels'].unique()))])\n",
        "\n",
        "for i, label in enumerate(embeddingsdf_train['labels'].unique()):\n",
        "    ax.scatter(embeddingsdf_train[embeddingsdf_train['labels'] == label]['x'],\n",
        "               embeddingsdf_train[embeddingsdf_train['labels'] == label]['y'],\n",
        "               color=cmap(i), label=maps[label], alpha=0.6)\n",
        "\n",
        "    mean_x = embeddingsdf_train[embeddingsdf_train['labels'] == label]['x'].mean()\n",
        "    mean_y = embeddingsdf_train[embeddingsdf_train['labels'] == label]['y'].mean()\n",
        "\n",
        "    ax.scatter(mean_x, mean_y, color=cmap(i), marker='x', s=100)\n",
        "\n",
        "plt.title('Scatter plot of classes after prototypical clustering')\n",
        "plt.legend()\n",
        "plt.show()\n"
      ]
    }
  ],
  "metadata": {
    "colab": {
      "collapsed_sections": [
        "Pz5MpNd3V8ym",
        "XbqrfvnFX6hu",
        "weR58S59Yc8f",
        "EuX21n91YMO6"
      ],
      "provenance": []
    },
    "kernelspec": {
      "display_name": "Python 3",
      "name": "python3"
    },
    "language_info": {
      "name": "python"
    }
  },
  "nbformat": 4,
  "nbformat_minor": 0
}
