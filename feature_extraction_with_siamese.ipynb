{
  "cells": [
    {
      "cell_type": "markdown",
      "metadata": {
        "id": "9J63lpAcfmqm"
      },
      "source": [
        "# Set up"
      ]
    },
    {
      "cell_type": "code",
      "execution_count": null,
      "metadata": {
        "colab": {
          "base_uri": "https://localhost:8080/"
        },
        "id": "MnfL_6pdeXse",
        "outputId": "ac3490a9-2ce0-486b-d6f8-4df9c902df1d"
      },
      "outputs": [
        {
          "output_type": "stream",
          "name": "stdout",
          "text": [
            "Drive already mounted at /content/drive; to attempt to forcibly remount, call drive.mount(\"/content/drive\", force_remount=True).\n"
          ]
        }
      ],
      "source": [
        "from google.colab import drive\n",
        "drive.mount('/content/drive')"
      ]
    },
    {
      "cell_type": "code",
      "execution_count": null,
      "metadata": {
        "id": "d-i93jyEHoF7"
      },
      "outputs": [],
      "source": [
        "#@title Imports\n",
        "import numpy as np\n",
        "import tensorflow as tf\n",
        "import cv2\n",
        "import matplotlib.pyplot as plt\n",
        "import os\n",
        "import pandas as pd\n",
        "from keras.models import Sequential, Model\n",
        "from keras import layers\n",
        "from keras.optimizers import RMSprop\n",
        "from tensorflow.keras.preprocessing.text import Tokenizer\n",
        "from keras.preprocessing.sequence import pad_sequences\n",
        "from keras.layers import Conv1D, GlobalMaxPooling1D, Reshape, Dropout, Dense, Input, Concatenate, Lambda, GlobalMaxPooling2D\n",
        "from keras.callbacks import EarlyStopping\n",
        "from tensorflow.keras.applications import ResNet50\n",
        "from transformers import BertTokenizer\n",
        "import tensorflow.keras.backend as K\n",
        "from transformers import TFBertModel\n",
        "\n",
        "from sklearn.model_selection import train_test_split\n",
        "from sklearn.preprocessing import LabelEncoder\n",
        "\n",
        "import datetime"
      ]
    },
    {
      "cell_type": "code",
      "execution_count": null,
      "metadata": {
        "id": "QGjNATL0xD9D"
      },
      "outputs": [],
      "source": [
        "%load_ext tensorboard\n",
        "!rm -rf ./logs/"
      ]
    },
    {
      "cell_type": "code",
      "execution_count": null,
      "metadata": {
        "id": "qtuyCugm4Asi"
      },
      "outputs": [],
      "source": [
        "np.random.seed(42)\n",
        "tf.random.set_seed(42)"
      ]
    },
    {
      "cell_type": "code",
      "execution_count": null,
      "metadata": {
        "id": "tM6Jp7JMfsuF"
      },
      "outputs": [],
      "source": [
        "#@title Constants\n",
        "\n",
        "MAX_LEN = 67\n",
        "INPUT_DIM_IMG = (64, 64, 3)\n",
        "INPUT_DIM_TEXT = (67,)\n",
        "INPUT_CONCAT_DIM = 33\n",
        "\n",
        "batch_size = 8\n",
        "epochs = 30"
      ]
    },
    {
      "cell_type": "markdown",
      "metadata": {
        "id": "-RKmT28ZgkWm"
      },
      "source": [
        "# Model Definitions"
      ]
    },
    {
      "cell_type": "code",
      "execution_count": null,
      "metadata": {
        "id": "4GXC9iE2GkGF"
      },
      "outputs": [],
      "source": [
        "tf.debugging.disable_traceback_filtering()"
      ]
    },
    {
      "cell_type": "code",
      "execution_count": null,
      "metadata": {
        "id": "4dNkP_zognu7"
      },
      "outputs": [],
      "source": [
        "#@title Image Network\n",
        "\n",
        "resnet_model = ResNet50(weights=\"imagenet\", include_top=False)\n",
        "\n",
        "def image_feat_network(input_shape):\n",
        "\n",
        "    resnet_model = ResNet50(weights=\"imagenet\", include_top=False, input_shape=input_shape)\n",
        "\n",
        "    # Freeze all layers of the ResNet50 model\n",
        "    for layer in resnet_model.layers:\n",
        "        layer.trainable = False\n",
        "\n",
        "    dense_layer = Dense(units=2048, activation='relu')(resnet_model.output)\n",
        "\n",
        "    pooled_output = GlobalMaxPooling2D()(dense_layer)\n",
        "\n",
        "    model = Model(inputs=resnet_model.input, outputs=pooled_output)\n",
        "\n",
        "    return model"
      ]
    },
    {
      "cell_type": "code",
      "execution_count": null,
      "metadata": {
        "id": "4UKz7bKeCroL"
      },
      "outputs": [],
      "source": [
        "#@title Text Network\n",
        "\n",
        "class ExtendedBert(tf.keras.Model):\n",
        "    def __init__(self):\n",
        "        super().__init__()\n",
        "\n",
        "        self.bert = TFBertModel.from_pretrained(\"bert-base-cased\",trainable=False)\n",
        "        self.dense_layer = tf.keras.layers.Dense(units=2048)\n",
        "\n",
        "    def call(self, inputs):\n",
        "        input_ids = tf.cast(inputs['input_ids'], tf.int32)  # Cast input_ids to int32\n",
        "        attention_mask = tf.cast(inputs['attention_mask'], tf.int32)\n",
        "        token_type_ids = tf.cast(inputs['token_type_ids'], tf.int32)\n",
        "\n",
        "        # get the hidden state of the last layer\n",
        "        last_hidden = self.bert(input_ids=input_ids, attention_mask=attention_mask, token_type_ids=token_type_ids)[0]\n",
        "        first_token_hidden_state = last_hidden[:, 0, :]\n",
        "        logits = self.dense_layer(first_token_hidden_state)\n",
        "        return logits"
      ]
    },
    {
      "cell_type": "code",
      "source": [
        "#@title Loss and Distances\n",
        "\n",
        "def eucl_dist_output_shape(shapes):\n",
        "    shape1, shape2 = shapes\n",
        "    return (shape1[0], 1)\n",
        "\n",
        "\n",
        "def euclidean_distance(vectors):\n",
        "  x, y = vectors\n",
        "  sum_square = K.sum(K.square(x - y), axis=1, keepdims=True)\n",
        "  return K.sqrt(K.maximum(sum_square, K.epsilon()))\n",
        "\n",
        "\n",
        "def contrastive_loss(y_true, y_pred):\n",
        "      margin=1\n",
        "      square_pred = K.square(y_pred)\n",
        "      margin_square = K.square(K.maximum(margin - y_pred, 0))\n",
        "      y_true = K.cast(y_true, y_pred.dtype)\n",
        "      return (0.5*y_true * square_pred + 0.5*(1 - y_true) * margin_square)\n",
        "\n",
        "\n",
        "def compute_accuracy(predictions, labels):\n",
        "\n",
        "    binary_predictions = tf.cast(predictions < 0.5, dtype=tf.int32)\n",
        "    labels = tf.cast(labels, dtype=tf.int32)\n",
        "    correct_predictions = tf.equal(binary_predictions, labels)\n",
        "    correct_predictions_float = tf.cast(correct_predictions, dtype=tf.float32)\n",
        "\n",
        "    accuracy = tf.reduce_mean(correct_predictions_float)\n",
        "\n",
        "    return accuracy\n",
        "\n",
        "def compute_acc(prediction, label):\n",
        "    print(prediction)\n",
        "    return prediction < 0.5\n",
        "\n"
      ],
      "metadata": {
        "id": "wQ62BHLhgCEC"
      },
      "execution_count": null,
      "outputs": []
    },
    {
      "cell_type": "code",
      "execution_count": null,
      "metadata": {
        "id": "fNYBkKqNPomm"
      },
      "outputs": [],
      "source": [
        "#@title Siamese Modal Network\n",
        "\n",
        "from tensorflow.keras.layers import Input, Concatenate, Lambda\n",
        "from tensorflow.keras.models import Model\n",
        "import tensorflow as tf\n",
        "\n",
        "def siamese_model(input_dim_img, input_dim_text, input_concat_dim):\n",
        "    img_a = Input(shape=input_dim_img)\n",
        "    img_b = Input(shape=input_dim_img)\n",
        "\n",
        "    max_seq_length = 67\n",
        "    text_a_input_ids = Input(shape=(max_seq_length,), name='input_ids')\n",
        "    text_a_attention_mask = Input(shape=(max_seq_length,), name='attention_mask')\n",
        "    text_a_token_type_ids = Input(shape=(max_seq_length,), name='token_type_ids')\n",
        "\n",
        "    text_a = {'input_ids': text_a_input_ids,\n",
        "              'attention_mask': text_a_attention_mask,\n",
        "              'token_type_ids': text_a_token_type_ids}\n",
        "\n",
        "    text_b_input_ids = Input(shape=(max_seq_length,), name='input_ids_b')\n",
        "    text_b_attention_mask = Input(shape=(max_seq_length,), name='attention_mask_b')\n",
        "    text_b_token_type_ids = Input(shape=(max_seq_length,), name='token_type_ids_b')\n",
        "\n",
        "    text_b = {'input_ids': text_b_input_ids,\n",
        "              'attention_mask': text_b_attention_mask,\n",
        "              'token_type_ids': text_b_token_type_ids}\n",
        "\n",
        "    img_network = image_feat_network(input_dim_img)\n",
        "    text_network = ExtendedBert()\n",
        "\n",
        "    feat_img_a = img_network(img_a)\n",
        "    feat_img_b = img_network(img_b)\n",
        "\n",
        "    # Pass the dictionary directly to text_network\n",
        "    feat_text_a = text_network(text_a)\n",
        "    feat_text_b = text_network(text_b)\n",
        "\n",
        "    # Concatenate the features\n",
        "    concat_a = Concatenate(axis=-1)([feat_img_a, feat_text_a])\n",
        "    concat_b = Concatenate(axis=-1)([feat_img_b, feat_text_b])\n",
        "\n",
        "\n",
        "    distance = Lambda(euclidean_distance, output_shape=eucl_dist_output_shape)([concat_a, concat_b])\n",
        "\n",
        "\n",
        "    prediction = distance\n",
        "\n",
        "    model = Model(inputs=[img_a, text_a_input_ids, text_a_attention_mask, text_a_token_type_ids,\n",
        "                          img_b, text_b_input_ids, text_b_attention_mask, text_b_token_type_ids],\n",
        "                  outputs=prediction)\n",
        "\n",
        "    rms = tf.keras.optimizers.Adam(learning_rate=0.0001)\n",
        "\n",
        "    return rms, model"
      ]
    },
    {
      "cell_type": "code",
      "execution_count": null,
      "metadata": {
        "id": "mv-kSyXRhgXV"
      },
      "outputs": [],
      "source": [
        "#@title Getting Input\n",
        "def getInput():\n",
        "  img_inputs = []\n",
        "  text_inputs = []\n",
        "  labels=[]\n",
        "\n",
        "  df = pd.read_csv('path/to/data.csv')\n",
        "\n",
        "  for i,image_path in enumerate(df[\"Image Path\"].to_list()):\n",
        "    img_inputs.append(process_image(image_path))\n",
        "\n",
        "  img_inputs = np.array(img_inputs, dtype=np.ndarray)\n",
        "  text_inputs = np.array(df[\"Better Captions\"].to_list())\n",
        "  labels = np.array(df[\"Class\"].to_list())\n",
        "\n",
        "\n",
        "  print(\"Image inputs shape:\", img_inputs.shape)\n",
        "  print(\"Text inputs shape:\", text_inputs.shape)\n",
        "  print(\"Labels shape:\", labels.shape)\n",
        "\n",
        "  return img_inputs, text_inputs, labels"
      ]
    },
    {
      "cell_type": "code",
      "execution_count": null,
      "metadata": {
        "id": "Xp0FRBJK8jZv"
      },
      "outputs": [],
      "source": [
        "#@title Data Processing\n",
        "\n",
        "def process_image(img_path):\n",
        "  try:\n",
        "    image = cv2.imread(img_path)\n",
        "    image = cv2.resize(image, (64, 64))\n",
        "    return (image / 255.0)\n",
        "  except:\n",
        "    print(img_path)\n",
        "\n",
        "\n",
        "def process_image_input(img_input):\n",
        "    img_data_list = []\n",
        "\n",
        "    for x in (img_input):\n",
        "        img_data = np.asarray(x, dtype=np.float32)\n",
        "\n",
        "        img_data = np.expand_dims(img_data, axis=0)\n",
        "\n",
        "        img_tensor = tf.convert_to_tensor(img_data)\n",
        "\n",
        "        img_data_list.append(img_tensor)\n",
        "\n",
        "    return img_data_list\n",
        "\n",
        "def process_text_input(text_inputs):\n",
        "  # Initialize the BERT tokenizer\n",
        "  tokenizer = BertTokenizer.from_pretrained('bert-base-cased')\n",
        "\n",
        "  tokenized_inputs = tokenizer(text_inputs.tolist(), padding='max_length', truncation=True, max_length=67, return_tensors='tf')\n",
        "\n",
        "  input_ids = tokenized_inputs['input_ids']\n",
        "  attention_mask = tokenized_inputs['attention_mask']\n",
        "  token_type_ids = tokenized_inputs.get('token_type_ids')\n",
        "\n",
        "  return input_ids, attention_mask, token_type_ids"
      ]
    },
    {
      "cell_type": "code",
      "execution_count": null,
      "metadata": {
        "id": "iRDwlToOiiLJ"
      },
      "outputs": [],
      "source": [
        "#@title Make Pairs\n",
        "def make_pairs(labels, images, input_ids, attention_masks, token_type_ids):\n",
        "\n",
        "    imga=[]\n",
        "    imgb=[]\n",
        "    txta=[]\n",
        "    txtb=[]\n",
        "    pairImages = []\n",
        "    pairTexts = []\n",
        "    pairLabels = []\n",
        "\n",
        "    #print(type(labels[0]))\n",
        "    numClasses = len(np.unique(labels))\n",
        "    #print(np.unique(labels))\n",
        "    idx = [np.where(labels == i)[0] for i in range(0, numClasses)]\n",
        "\n",
        "    for idxA in range(len(images)):\n",
        "\n",
        "      currentImage = images[idxA]\n",
        "      currentText =  [input_ids[idxA], attention_masks[idxA], token_type_ids[idxA]]\n",
        "      label = labels[idxA]\n",
        "\n",
        "      idxB = np.random.choice(idx[label])\n",
        "      posImage = images[idxB]\n",
        "      posText = [input_ids[idxB], attention_masks[idxB], token_type_ids[idxB]]\n",
        "\n",
        "      # positive labelled pair\n",
        "      pairImages.append([currentImage, posImage])\n",
        "      imga.append(currentImage)\n",
        "      imgb.append(posImage)\n",
        "      txta.append(currentText)\n",
        "      txtb.append(posText)\n",
        "      pairTexts.append([currentText, posText])\n",
        "      pairLabels.append([1])\n",
        "\n",
        "\n",
        "      negIdx = np.where(labels != label)[0]\n",
        "      negImage = images[np.random.choice(negIdx)]\n",
        "      negText = [input_ids[np.random.choice(negIdx)], attention_masks[np.random.choice(negIdx)], token_type_ids[np.random.choice(negIdx)]]\n",
        "    # negative labelled pair\n",
        "      imga.append(currentImage)\n",
        "      imgb.append(negImage)\n",
        "      txta.append(currentText)\n",
        "      txtb.append(negText)\n",
        "      pairImages.append([currentImage, negImage])\n",
        "      pairTexts.append([currentText, negText])\n",
        "      pairLabels.append([0])\n",
        "\n",
        "    return imga,txta, imgb, txtb, pairLabels"
      ]
    },
    {
      "cell_type": "markdown",
      "metadata": {
        "id": "t3VZW5zHio-Z"
      },
      "source": [
        "# Training"
      ]
    },
    {
      "cell_type": "code",
      "execution_count": null,
      "metadata": {
        "id": "woTwbM-NirnM",
        "colab": {
          "base_uri": "https://localhost:8080/"
        },
        "outputId": "79a94b39-d05c-4606-d7e9-37bdd613ad21"
      },
      "outputs": [
        {
          "output_type": "stream",
          "name": "stdout",
          "text": [
            "Image inputs shape: (130, 64, 64, 3)\n",
            "Text inputs shape: (130,)\n",
            "Labels shape: (130,)\n"
          ]
        }
      ],
      "source": [
        "img_inputs, text_inputs, labels = getInput()"
      ]
    },
    {
      "cell_type": "code",
      "execution_count": null,
      "metadata": {
        "id": "K2MWBO1dkiIb",
        "colab": {
          "base_uri": "https://localhost:8080/",
          "height": 318,
          "referenced_widgets": [
            "499483c07d0546b6bcd335dd20918f35",
            "5a93d49f57834ffcbbba9d1d042c5734",
            "f143d90dbad34b26aab1ceb1c0dfa4f2",
            "8c4fd6d8c2c347b09603edf8caf05c73",
            "e42690285ac64e1e99f521171141b52b",
            "53d59a5a4fc54ddcae9c3ad187ac269b",
            "f052cb3a823e42da829f9d6c9791c0e5",
            "39e388cedcf44a53a5ea5eaec1d2736c",
            "d5f11dd500a544c2aebe1038750bd896",
            "1695e7d30b49452db0a3dedf3be13dc9",
            "be1e8c8b647a45c18c13ea007a4e60e0",
            "3c300157bc564951a138c17eaddbc32b",
            "f49ea2767dc94f379344d09434b7c4d6",
            "686a7fd454ea4afdbd12f4377a3b2147",
            "4122a8a0b5074e15971dc75f6e1dfbf2",
            "d04b6a57edbf4a94ac1ed2185005ac80",
            "455ef9b3101247908f9c39ec96ebaa31",
            "04bac13665324ddfa2fdb7b71fde3adc",
            "a7131c0e7e234d3bbbd4ed29dbca246d",
            "9e5f877376b24549a37fc467215a424d",
            "f4dd9e4d3d2847c089dba1dc58d17d38",
            "adf08311863f48e4b4b51373e6778767",
            "5c5a7ed67fed4443a4374ac02383b0ab",
            "0b3e735c71774fb7926872675fc8f0e4",
            "63e456647b4b427b84dd7ded669f7c8e",
            "6213dce9158849d0a71b09e87fa648c8",
            "f7a1515be2e840299333f83972c73c7a",
            "d612768af8fd49378609dc0a5642ca0f",
            "b9b4103f9e324a348331f6dd93bd8060",
            "e1149d97eb454456aaf9ffc0bd68a3b1",
            "16449877d6b34c44a2e6c73a62215355",
            "15c6571ad9b64bbf8d8b15c2fb1a2ed8",
            "e8c54d795c3245398db8d217566bdc97",
            "496c64149cc3430089f988351fb99c4a",
            "af8ece95e8754dd0862b03ad7214d7de",
            "ace585a086d84b7a81bec107c5b4b293",
            "f9bcd6aa62bf415591615c7eb8afb62f",
            "3b846be153d044a4a732f67b2318983f",
            "76e6ea171c724a7bb138a10251731ba7",
            "a02c11ebdecf4b0cbe4d11993250ab86",
            "36b446c1c5ff4be7b20598b61eaf3559",
            "118297e9985d40b78cac3611426d2dcd",
            "bac07b0a2e1b42969b98405463bf6f10",
            "ab740932c8f24c908aae5c48d1508eb6"
          ]
        },
        "outputId": "168aec17-6903-4e90-c735-0fb66ff0cf3f"
      },
      "outputs": [
        {
          "output_type": "stream",
          "name": "stderr",
          "text": [
            "/usr/local/lib/python3.11/dist-packages/huggingface_hub/utils/_auth.py:94: UserWarning: \n",
            "The secret `HF_TOKEN` does not exist in your Colab secrets.\n",
            "To authenticate with the Hugging Face Hub, create a token in your settings tab (https://huggingface.co/settings/tokens), set it as secret in your Google Colab and restart your session.\n",
            "You will be able to reuse this secret in all of your notebooks.\n",
            "Please note that authentication is recommended but still optional to access public models or datasets.\n",
            "  warnings.warn(\n"
          ]
        },
        {
          "output_type": "display_data",
          "data": {
            "text/plain": [
              "tokenizer_config.json:   0%|          | 0.00/49.0 [00:00<?, ?B/s]"
            ],
            "application/vnd.jupyter.widget-view+json": {
              "version_major": 2,
              "version_minor": 0,
              "model_id": "499483c07d0546b6bcd335dd20918f35"
            }
          },
          "metadata": {}
        },
        {
          "output_type": "display_data",
          "data": {
            "text/plain": [
              "vocab.txt:   0%|          | 0.00/213k [00:00<?, ?B/s]"
            ],
            "application/vnd.jupyter.widget-view+json": {
              "version_major": 2,
              "version_minor": 0,
              "model_id": "3c300157bc564951a138c17eaddbc32b"
            }
          },
          "metadata": {}
        },
        {
          "output_type": "display_data",
          "data": {
            "text/plain": [
              "tokenizer.json:   0%|          | 0.00/436k [00:00<?, ?B/s]"
            ],
            "application/vnd.jupyter.widget-view+json": {
              "version_major": 2,
              "version_minor": 0,
              "model_id": "5c5a7ed67fed4443a4374ac02383b0ab"
            }
          },
          "metadata": {}
        },
        {
          "output_type": "display_data",
          "data": {
            "text/plain": [
              "config.json:   0%|          | 0.00/570 [00:00<?, ?B/s]"
            ],
            "application/vnd.jupyter.widget-view+json": {
              "version_major": 2,
              "version_minor": 0,
              "model_id": "496c64149cc3430089f988351fb99c4a"
            }
          },
          "metadata": {}
        },
        {
          "output_type": "stream",
          "name": "stdout",
          "text": [
            "Padded input IDs shape: (130, 67)\n",
            "Padded attention mask shape: (130, 67)\n",
            "Padded input IDs type: <class 'tensorflow.python.framework.ops.EagerTensor'>\n"
          ]
        }
      ],
      "source": [
        "img_data_list = process_image_input(img_inputs)\n",
        "input_ids, attention_mask, token_type_ids = process_text_input(text_inputs)\n",
        "\n",
        "print(\"Padded input IDs shape:\", input_ids.shape)\n",
        "print(\"Padded attention mask shape:\", attention_mask.shape)\n",
        "print(\"Padded input IDs type:\", type(input_ids))"
      ]
    },
    {
      "cell_type": "code",
      "execution_count": null,
      "metadata": {
        "id": "L2S0h-nelKk7",
        "colab": {
          "base_uri": "https://localhost:8080/",
          "height": 154,
          "referenced_widgets": [
            "bdb7e09f603540aa9cf59b01b91b04aa",
            "702ba83cf1724de7ae92c1c892e712ca",
            "e1607419ebba42a589ff53411469e64d",
            "b6777e355c594c2ca50e32fd409a4107",
            "dbae1cff672043858ea882b65987b073",
            "cf86d7de0e814ef2b458c3da76a4cf2e",
            "fa0cfc96c7aa44a5a46f2b43ecfe4dec",
            "4cec10019c2b48a49ccd54f1a59db40a",
            "c6b7f66baf084607b252cb3f28fe1ded",
            "a16e63d1e58e401e8a7fd35c804860f8",
            "de766e77057545e29c28b593ac25caad"
          ]
        },
        "outputId": "1506e2d1-55cb-41ad-f1bd-77612e853dee"
      },
      "outputs": [
        {
          "output_type": "display_data",
          "data": {
            "text/plain": [
              "model.safetensors:   0%|          | 0.00/436M [00:00<?, ?B/s]"
            ],
            "application/vnd.jupyter.widget-view+json": {
              "version_major": 2,
              "version_minor": 0,
              "model_id": "bdb7e09f603540aa9cf59b01b91b04aa"
            }
          },
          "metadata": {}
        },
        {
          "output_type": "stream",
          "name": "stderr",
          "text": [
            "Some weights of the PyTorch model were not used when initializing the TF 2.0 model TFBertModel: ['cls.predictions.transform.LayerNorm.bias', 'cls.predictions.transform.LayerNorm.weight', 'cls.predictions.bias', 'cls.predictions.transform.dense.weight', 'cls.predictions.transform.dense.bias', 'cls.seq_relationship.weight', 'cls.seq_relationship.bias']\n",
            "- This IS expected if you are initializing TFBertModel from a PyTorch model trained on another task or with another architecture (e.g. initializing a TFBertForSequenceClassification model from a BertForPreTraining model).\n",
            "- This IS NOT expected if you are initializing TFBertModel from a PyTorch model that you expect to be exactly identical (e.g. initializing a TFBertForSequenceClassification model from a BertForSequenceClassification model).\n",
            "All the weights of TFBertModel were initialized from the PyTorch model.\n",
            "If your task is similar to the task the model of the checkpoint was trained on, you can already use TFBertModel for predictions without further training.\n"
          ]
        }
      ],
      "source": [
        "img_network = image_feat_network(INPUT_DIM_IMG)\n",
        "\n",
        "text_network = ExtendedBert()\n",
        "\n",
        "optimizer = tf.keras.optimizers.Adam(learning_rate=1e-5)\n",
        "loss_fn = tf.keras.losses.SparseCategoricalCrossentropy(from_logits=True)\n",
        "text_network.compile(optimizer=optimizer, loss=loss_fn)"
      ]
    },
    {
      "cell_type": "code",
      "execution_count": null,
      "metadata": {
        "id": "B08lmxdNDRiC"
      },
      "outputs": [],
      "source": [
        "tf.experimental.numpy.experimental_enable_numpy_behavior()"
      ]
    },
    {
      "cell_type": "code",
      "execution_count": null,
      "metadata": {
        "id": "IMY-jpYwG1wE"
      },
      "outputs": [],
      "source": [
        "train_size = 0.8\n",
        "\n",
        "label_encoder = LabelEncoder()\n",
        "encoded_labels = label_encoder.fit_transform(labels)\n",
        "\n",
        "input_ids_list = input_ids.tolist()\n",
        "attention_mask_list = attention_mask.tolist()\n",
        "token_type_ids_list = token_type_ids.tolist()\n",
        "\n",
        "labels_train, labels_test, img_data_train, img_data_test, input_ids_train, input_ids_test, attention_mask_train, attention_mask_test, token_type_ids_train, token_type_ids_test = train_test_split(encoded_labels, img_data_list, input_ids_list, attention_mask_list, token_type_ids_list, train_size=train_size, random_state=42)"
      ]
    },
    {
      "cell_type": "code",
      "execution_count": null,
      "metadata": {
        "id": "MAMF0thKPUSI"
      },
      "outputs": [],
      "source": [
        "img_a, text_a, img_b, text_b, lab = make_pairs(labels_train, img_data_train, input_ids_train, attention_mask_train, token_type_ids_train)\n"
      ]
    },
    {
      "cell_type": "code",
      "execution_count": null,
      "metadata": {
        "id": "KHtdhYxtdY0A"
      },
      "outputs": [],
      "source": [
        "tf.config.run_functions_eagerly(True)"
      ]
    },
    {
      "cell_type": "code",
      "execution_count": null,
      "metadata": {
        "id": "aNSftvhOUq63"
      },
      "outputs": [],
      "source": [
        "img_a = tf.squeeze(img_a)\n",
        "img_b = tf.squeeze(img_b)"
      ]
    },
    {
      "cell_type": "code",
      "execution_count": null,
      "metadata": {
        "id": "8QKqvUgDmHpW"
      },
      "outputs": [],
      "source": [
        "img_a = tf.convert_to_tensor(img_a)\n",
        "text_a = tf.convert_to_tensor(text_a)\n",
        "img_b = tf.convert_to_tensor(img_b)\n",
        "text_b = tf.convert_to_tensor(text_b)\n",
        "lab = tf.convert_to_tensor(lab)"
      ]
    },
    {
      "cell_type": "code",
      "execution_count": null,
      "metadata": {
        "id": "9Q8x1J5mtaeH"
      },
      "outputs": [],
      "source": [
        "reduce_lr = tf.keras.callbacks.ReduceLROnPlateau(\n",
        "    monitor='val_loss',\n",
        "    factor=0.1,\n",
        "    patience=5,\n",
        "    verbose=0,\n",
        "    min_lr=0.000001\n",
        ")"
      ]
    },
    {
      "cell_type": "code",
      "execution_count": null,
      "metadata": {
        "id": "08EtBpj6KWrP"
      },
      "outputs": [],
      "source": [
        "es_loss = EarlyStopping(monitor='val_loss', mode='min', verbose=1, patience=4)"
      ]
    },
    {
      "cell_type": "code",
      "execution_count": null,
      "metadata": {
        "id": "fuAvRzdXme2h"
      },
      "outputs": [],
      "source": [
        "#@title compile\n",
        "\n",
        "opt,model = siamese_model (INPUT_DIM_IMG ,INPUT_DIM_TEXT , INPUT_CONCAT_DIM)\n",
        "model.compile(loss=contrastive_loss, optimizer=opt,run_eagerly=True)\n",
        "# model.summary()"
      ]
    },
    {
      "cell_type": "code",
      "execution_count": null,
      "metadata": {
        "id": "_1JK0UOPxs-e"
      },
      "outputs": [],
      "source": [
        "log_dir = \"/content/drive/Shareddrives/Naan Mudhalvan /Disease Detection/siamese/logs/\" + datetime.datetime.now().strftime(\"%Y%m%d-%H%M%S\")\n",
        "tensorboard_callback = tf.keras.callbacks.TensorBoard(log_dir=log_dir, histogram_freq=1)\n",
        "\n",
        "lr_schedule = tf.keras.callbacks.LearningRateScheduler(lambda epoch: 1e-5 * 10**(epoch / 20))"
      ]
    },
    {
      "cell_type": "code",
      "execution_count": null,
      "metadata": {
        "id": "ydJxNa162lZM"
      },
      "outputs": [],
      "source": [
        "# tf.summary.scalar('learning_rate', learning_rate)"
      ]
    },
    {
      "cell_type": "code",
      "execution_count": null,
      "metadata": {
        "id": "LLPQUCw9ST5Y"
      },
      "outputs": [],
      "source": [
        "history = model.fit([img_a,  text_a[:,0,:],text_a[:,1,:],text_a[:,2,:],img_b,text_b[:,0,:],text_b[:,1,:],text_b[:,2,:]],\n",
        "                    lab,\n",
        "                    validation_split=.25,\n",
        "                    batch_size=batch_size,\n",
        "                    verbose=2,\n",
        "                    epochs=60,\n",
        "                    callbacks=[tensorboard_callback, reduce_lr,es_loss],\n",
        "                    )"
      ]
    },
    {
      "cell_type": "code",
      "execution_count": null,
      "metadata": {
        "id": "dUXfunFe2uQa"
      },
      "outputs": [],
      "source": [
        "# plt.semilogx(history.history[\"lr\"], history.history[\"loss\"])\n",
        "# plt.axis([1e-6, 1e-1, 0, 0.3])"
      ]
    },
    {
      "cell_type": "code",
      "execution_count": null,
      "metadata": {
        "id": "M8qQd1e3zp_0"
      },
      "outputs": [],
      "source": [
        "history.history.keys()"
      ]
    },
    {
      "cell_type": "code",
      "execution_count": null,
      "metadata": {
        "id": "bhL0RJ-2zmuu"
      },
      "outputs": [],
      "source": [
        "\n",
        "train_loss = history.history['loss']\n",
        "\n",
        "\n",
        "val_loss= history.history['val_loss']"
      ]
    },
    {
      "cell_type": "code",
      "execution_count": null,
      "metadata": {
        "id": "9VjIZ-eXzxyh"
      },
      "outputs": [],
      "source": [
        "import matplotlib.pyplot as plt\n",
        "\n",
        "epochs = range(1, 61)\n",
        "plt.plot(epochs, train_loss, 'b', label='Training loss')\n",
        "plt.plot(epochs, val_loss, 'r', label='Validation loss')\n",
        "plt.title('Training and validation loss')\n",
        "plt.xlabel('Epochs')\n",
        "plt.ylabel('Loss')\n",
        "plt.legend()\n",
        "\n",
        "plt.show()"
      ]
    },
    {
      "cell_type": "code",
      "source": [
        "checkpoint_path = \"/path/\"\n",
        "model.save_weights(checkpoint_path)\n"
      ],
      "metadata": {
        "id": "peSHHD8X8c1p"
      },
      "execution_count": null,
      "outputs": []
    },
    {
      "cell_type": "code",
      "source": [
        "np.save('/path/', labels)"
      ],
      "metadata": {
        "id": "c3kl4Q-WHxhL"
      },
      "execution_count": null,
      "outputs": []
    },
    {
      "cell_type": "markdown",
      "metadata": {
        "id": "A9GNBNyIm9pJ"
      },
      "source": [
        "# Inference"
      ]
    },
    {
      "cell_type": "code",
      "execution_count": null,
      "metadata": {
        "id": "96mEtINpJMGy"
      },
      "outputs": [],
      "source": [
        "img_a,text_a,img_b,text_b,lab =  make_pairs(labels_test, img_data_test, input_ids_test, attention_mask_test, token_type_ids_test)"
      ]
    },
    {
      "cell_type": "code",
      "execution_count": null,
      "metadata": {
        "id": "VA8kvvL6eFtu"
      },
      "outputs": [],
      "source": [
        "img_a = tf.squeeze(img_a, axis=1)\n",
        "img_b = tf.squeeze(img_b, axis=1)"
      ]
    },
    {
      "cell_type": "code",
      "execution_count": null,
      "metadata": {
        "id": "KGPnMexdcHiz"
      },
      "outputs": [],
      "source": [
        "img_a = tf.convert_to_tensor(img_a)\n",
        "text_a = tf.convert_to_tensor(text_a)\n",
        "img_b = tf.convert_to_tensor(img_b)\n",
        "text_b = tf.convert_to_tensor(text_b)\n",
        "lab = tf.convert_to_tensor(lab)"
      ]
    },
    {
      "cell_type": "code",
      "execution_count": null,
      "metadata": {
        "id": "lkrk3GXRsymC"
      },
      "outputs": [],
      "source": [
        "output= model.predict([img_a,  text_a[:,0,:],text_a[:,1,:],text_a[:,2,:],img_b,text_b[:,0,:],text_b[:,1,:],text_b[:,2,:]])"
      ]
    },
    {
      "cell_type": "code",
      "execution_count": null,
      "metadata": {
        "id": "uhRVr4H6tGXF"
      },
      "outputs": [],
      "source": [
        "test_acc = compute_accuracy(output, lab)\n",
        "print(test_acc.numpy())"
      ]
    },
    {
      "cell_type": "code",
      "execution_count": null,
      "metadata": {
        "id": "LkE5pmfiujIK",
        "colab": {
          "base_uri": "https://localhost:8080/"
        },
        "outputId": "9e577277-fd0a-49ee-a77e-177177d8918b"
      },
      "outputs": [
        {
          "output_type": "stream",
          "name": "stderr",
          "text": [
            "Some weights of the PyTorch model were not used when initializing the TF 2.0 model TFBertModel: ['cls.predictions.transform.LayerNorm.bias', 'cls.predictions.transform.LayerNorm.weight', 'cls.predictions.bias', 'cls.predictions.transform.dense.weight', 'cls.predictions.transform.dense.bias', 'cls.seq_relationship.weight', 'cls.seq_relationship.bias']\n",
            "- This IS expected if you are initializing TFBertModel from a PyTorch model trained on another task or with another architecture (e.g. initializing a TFBertForSequenceClassification model from a BertForPreTraining model).\n",
            "- This IS NOT expected if you are initializing TFBertModel from a PyTorch model that you expect to be exactly identical (e.g. initializing a TFBertForSequenceClassification model from a BertForSequenceClassification model).\n",
            "All the weights of TFBertModel were initialized from the PyTorch model.\n",
            "If your task is similar to the task the model of the checkpoint was trained on, you can already use TFBertModel for predictions without further training.\n"
          ]
        },
        {
          "output_type": "execute_result",
          "data": {
            "text/plain": [
              "<tensorflow.python.checkpoint.checkpoint.CheckpointLoadStatus at 0x7ef0c52cf590>"
            ]
          },
          "metadata": {},
          "execution_count": 33
        }
      ],
      "source": [
        "#@title Load Model\n",
        "\n",
        "CKPT_PATH = \"/path/\"\n",
        "\n",
        "opt,loaded_model = siamese_model (INPUT_DIM_IMG ,INPUT_DIM_TEXT , INPUT_CONCAT_DIM)\n",
        "\n",
        "checkpoint = tf.train.Checkpoint(model=loaded_model)\n",
        "\n",
        "# Restore weights from checkpoint\n",
        "checkpoint.restore(CKPT_PATH).expect_partial()"
      ]
    },
    {
      "cell_type": "code",
      "execution_count": null,
      "metadata": {
        "id": "yixHUvL9zBoU",
        "colab": {
          "base_uri": "https://localhost:8080/"
        },
        "outputId": "f6dee4a4-bc70-44a1-a913-16e73b35a878"
      },
      "outputs": [
        {
          "output_type": "execute_result",
          "data": {
            "text/plain": [
              "<Lambda name=lambda_3, built=True>"
            ]
          },
          "metadata": {},
          "execution_count": 34
        }
      ],
      "source": [
        "loaded_model.layers.pop()"
      ]
    },
    {
      "cell_type": "code",
      "execution_count": null,
      "metadata": {
        "id": "ahNE-Z15zHPh"
      },
      "outputs": [],
      "source": [
        "model2= Model(inputs=loaded_model.input, outputs=loaded_model.layers[-1].input)"
      ]
    },
    {
      "cell_type": "code",
      "source": [
        "len(input_ids_test)"
      ],
      "metadata": {
        "colab": {
          "base_uri": "https://localhost:8080/"
        },
        "id": "8Xtsqx7J1AG5",
        "outputId": "7134aefd-3066-4e4b-909b-76228851f402"
      },
      "execution_count": null,
      "outputs": [
        {
          "output_type": "execute_result",
          "data": {
            "text/plain": [
              "26"
            ]
          },
          "metadata": {},
          "execution_count": 37
        }
      ]
    },
    {
      "cell_type": "code",
      "source": [
        "max_seq_length = 67\n",
        "input_ids = tf.convert_to_tensor(input_ids_test)\n",
        "attention_mask = tf.convert_to_tensor(attention_mask_test)\n",
        "token_type_ids = tf.convert_to_tensor(token_type_ids_test)\n",
        "\n",
        "batch_size = len(input_ids_test)\n",
        "print(batch_size)\n",
        "\n",
        "input_ids = tf.reshape(input_ids, (batch_size, max_seq_length))\n",
        "attention_mask = tf.reshape(attention_mask, (batch_size, max_seq_length))\n",
        "token_type_ids = tf.reshape(token_type_ids, (batch_size, max_seq_length))\n",
        "\n",
        "\n",
        "input_ids = tf.cast(input_ids, tf.int32)\n",
        "attention_mask = tf.cast(attention_mask, tf.float32)\n",
        "token_type_ids = tf.cast(token_type_ids, tf.int32)\n",
        "\n",
        "\n",
        "text = {\n",
        "    'input_ids': input_ids,\n",
        "    'attention_mask': attention_mask,\n",
        "    'token_type_ids': token_type_ids\n",
        "}"
      ],
      "metadata": {
        "id": "nYVx7suTyFX2"
      },
      "execution_count": null,
      "outputs": []
    },
    {
      "cell_type": "code",
      "execution_count": null,
      "metadata": {
        "id": "TxQECvRO33Tj"
      },
      "outputs": [],
      "source": [
        "output= model2.predict([img_a,  text_a[:,0,:],text_a[:,1,:],text_a[:,2,:],img_b,text_b[:,0,:],text_b[:,1,:],text_b[:,2,:]])"
      ]
    },
    {
      "cell_type": "code",
      "execution_count": null,
      "metadata": {
        "id": "HQllvi_R6ugn"
      },
      "outputs": [],
      "source": [
        "tf.squeeze(tf.convert_to_tensor(img_data_test), axis=1).shape"
      ]
    },
    {
      "cell_type": "code",
      "execution_count": null,
      "metadata": {
        "id": "ThgIT9eV4dNX",
        "colab": {
          "base_uri": "https://localhost:8080/"
        },
        "outputId": "61ba5c03-4448-4e2c-b1e6-4d48997fd69d"
      },
      "outputs": [
        {
          "output_type": "stream",
          "name": "stderr",
          "text": [
            "/usr/local/lib/python3.11/dist-packages/tensorflow/python/data/ops/structured_function.py:258: UserWarning: Even though the `tf.config.experimental_run_functions_eagerly` option is set, this option does not apply to tf.data functions. To force eager execution of tf.data functions, please use `tf.data.experimental.enable_debug_mode()`.\n",
            "  warnings.warn(\n"
          ]
        },
        {
          "output_type": "stream",
          "name": "stdout",
          "text": [
            "\u001b[1m1/1\u001b[0m \u001b[32m━━━━━━━━━━━━━━━━━━━━\u001b[0m\u001b[37m\u001b[0m \u001b[1m7s\u001b[0m 7s/step\n"
          ]
        }
      ],
      "source": [
        "op= model2.predict([tf.squeeze(tf.convert_to_tensor(img_data_test), axis=1),  text['input_ids'],text['attention_mask'],text['token_type_ids'],tf.squeeze(tf.convert_to_tensor(img_data_test), axis=1),text['input_ids'],text['attention_mask'],text['token_type_ids']])"
      ]
    },
    {
      "cell_type": "code",
      "execution_count": null,
      "metadata": {
        "id": "sh4EiTce7o6s"
      },
      "outputs": [],
      "source": [
        "data = np.array(op[0])"
      ]
    },
    {
      "cell_type": "code",
      "source": [
        "data"
      ],
      "metadata": {
        "colab": {
          "base_uri": "https://localhost:8080/"
        },
        "id": "Y61_481h1XCl",
        "outputId": "7b81be22-40f8-4cef-f763-2ead31b510ad"
      },
      "execution_count": null,
      "outputs": [
        {
          "output_type": "execute_result",
          "data": {
            "text/plain": [
              "array([[0.01309842, 0.        , 0.06618597, ..., 0.13646635, 0.7361431 ,\n",
              "        0.5808059 ],\n",
              "       [0.        , 0.        , 0.11341009, ..., 0.14186475, 0.6511147 ,\n",
              "        0.6087172 ],\n",
              "       [0.        , 0.        , 0.18411045, ..., 0.07568753, 0.8258367 ,\n",
              "        0.570537  ],\n",
              "       ...,\n",
              "       [0.        , 0.        , 0.05287366, ..., 0.10643341, 0.695094  ,\n",
              "        0.58238477],\n",
              "       [0.01019871, 0.        , 0.20670238, ..., 0.09621214, 0.6533444 ,\n",
              "        0.57769173],\n",
              "       [0.        , 0.        , 0.20093586, ..., 0.1282919 , 0.64091295,\n",
              "        0.49844763]], dtype=float32)"
            ]
          },
          "metadata": {},
          "execution_count": 45
        }
      ]
    },
    {
      "cell_type": "code",
      "source": [
        "labels_test"
      ],
      "metadata": {
        "colab": {
          "base_uri": "https://localhost:8080/"
        },
        "id": "NSweJ9YS2iSt",
        "outputId": "381eb915-b62e-4043-bc7e-21cecbc9b4c4"
      },
      "execution_count": null,
      "outputs": [
        {
          "output_type": "execute_result",
          "data": {
            "text/plain": [
              "array([9, 3, 5, 2, 6, 9, 8, 6, 7, 2, 1, 2, 8, 4, 1, 6, 3, 7, 7, 7, 5, 4,\n",
              "       6, 4, 0, 3])"
            ]
          },
          "metadata": {},
          "execution_count": 48
        }
      ]
    },
    {
      "cell_type": "code",
      "execution_count": null,
      "metadata": {
        "id": "uKNMNfUt7nOA"
      },
      "outputs": [],
      "source": [
        "np.save('/path/', data)\n",
        "\n",
        "np.save('/path/', labels_test)"
      ]
    },
    {
      "cell_type": "code",
      "source": [],
      "metadata": {
        "id": "FPx65iufFLIY"
      },
      "execution_count": null,
      "outputs": []
    }
  ],
  "metadata": {
    "accelerator": "GPU",
    "colab": {
      "collapsed_sections": [
        "9J63lpAcfmqm"
      ],
      "gpuType": "T4",
      "provenance": []
    },
    "kernelspec": {
      "display_name": "Python 3",
      "name": "python3"
    },
    "language_info": {
      "name": "python"
    },
    "widgets": {
      "application/vnd.jupyter.widget-state+json": {
        "499483c07d0546b6bcd335dd20918f35": {
          "model_module": "@jupyter-widgets/controls",
          "model_name": "HBoxModel",
          "model_module_version": "1.5.0",
          "state": {
            "_dom_classes": [],
            "_model_module": "@jupyter-widgets/controls",
            "_model_module_version": "1.5.0",
            "_model_name": "HBoxModel",
            "_view_count": null,
            "_view_module": "@jupyter-widgets/controls",
            "_view_module_version": "1.5.0",
            "_view_name": "HBoxView",
            "box_style": "",
            "children": [
              "IPY_MODEL_5a93d49f57834ffcbbba9d1d042c5734",
              "IPY_MODEL_f143d90dbad34b26aab1ceb1c0dfa4f2",
              "IPY_MODEL_8c4fd6d8c2c347b09603edf8caf05c73"
            ],
            "layout": "IPY_MODEL_e42690285ac64e1e99f521171141b52b"
          }
        },
        "5a93d49f57834ffcbbba9d1d042c5734": {
          "model_module": "@jupyter-widgets/controls",
          "model_name": "HTMLModel",
          "model_module_version": "1.5.0",
          "state": {
            "_dom_classes": [],
            "_model_module": "@jupyter-widgets/controls",
            "_model_module_version": "1.5.0",
            "_model_name": "HTMLModel",
            "_view_count": null,
            "_view_module": "@jupyter-widgets/controls",
            "_view_module_version": "1.5.0",
            "_view_name": "HTMLView",
            "description": "",
            "description_tooltip": null,
            "layout": "IPY_MODEL_53d59a5a4fc54ddcae9c3ad187ac269b",
            "placeholder": "​",
            "style": "IPY_MODEL_f052cb3a823e42da829f9d6c9791c0e5",
            "value": "tokenizer_config.json: 100%"
          }
        },
        "f143d90dbad34b26aab1ceb1c0dfa4f2": {
          "model_module": "@jupyter-widgets/controls",
          "model_name": "FloatProgressModel",
          "model_module_version": "1.5.0",
          "state": {
            "_dom_classes": [],
            "_model_module": "@jupyter-widgets/controls",
            "_model_module_version": "1.5.0",
            "_model_name": "FloatProgressModel",
            "_view_count": null,
            "_view_module": "@jupyter-widgets/controls",
            "_view_module_version": "1.5.0",
            "_view_name": "ProgressView",
            "bar_style": "success",
            "description": "",
            "description_tooltip": null,
            "layout": "IPY_MODEL_39e388cedcf44a53a5ea5eaec1d2736c",
            "max": 49,
            "min": 0,
            "orientation": "horizontal",
            "style": "IPY_MODEL_d5f11dd500a544c2aebe1038750bd896",
            "value": 49
          }
        },
        "8c4fd6d8c2c347b09603edf8caf05c73": {
          "model_module": "@jupyter-widgets/controls",
          "model_name": "HTMLModel",
          "model_module_version": "1.5.0",
          "state": {
            "_dom_classes": [],
            "_model_module": "@jupyter-widgets/controls",
            "_model_module_version": "1.5.0",
            "_model_name": "HTMLModel",
            "_view_count": null,
            "_view_module": "@jupyter-widgets/controls",
            "_view_module_version": "1.5.0",
            "_view_name": "HTMLView",
            "description": "",
            "description_tooltip": null,
            "layout": "IPY_MODEL_1695e7d30b49452db0a3dedf3be13dc9",
            "placeholder": "​",
            "style": "IPY_MODEL_be1e8c8b647a45c18c13ea007a4e60e0",
            "value": " 49.0/49.0 [00:00&lt;00:00, 3.20kB/s]"
          }
        },
        "e42690285ac64e1e99f521171141b52b": {
          "model_module": "@jupyter-widgets/base",
          "model_name": "LayoutModel",
          "model_module_version": "1.2.0",
          "state": {
            "_model_module": "@jupyter-widgets/base",
            "_model_module_version": "1.2.0",
            "_model_name": "LayoutModel",
            "_view_count": null,
            "_view_module": "@jupyter-widgets/base",
            "_view_module_version": "1.2.0",
            "_view_name": "LayoutView",
            "align_content": null,
            "align_items": null,
            "align_self": null,
            "border": null,
            "bottom": null,
            "display": null,
            "flex": null,
            "flex_flow": null,
            "grid_area": null,
            "grid_auto_columns": null,
            "grid_auto_flow": null,
            "grid_auto_rows": null,
            "grid_column": null,
            "grid_gap": null,
            "grid_row": null,
            "grid_template_areas": null,
            "grid_template_columns": null,
            "grid_template_rows": null,
            "height": null,
            "justify_content": null,
            "justify_items": null,
            "left": null,
            "margin": null,
            "max_height": null,
            "max_width": null,
            "min_height": null,
            "min_width": null,
            "object_fit": null,
            "object_position": null,
            "order": null,
            "overflow": null,
            "overflow_x": null,
            "overflow_y": null,
            "padding": null,
            "right": null,
            "top": null,
            "visibility": null,
            "width": null
          }
        },
        "53d59a5a4fc54ddcae9c3ad187ac269b": {
          "model_module": "@jupyter-widgets/base",
          "model_name": "LayoutModel",
          "model_module_version": "1.2.0",
          "state": {
            "_model_module": "@jupyter-widgets/base",
            "_model_module_version": "1.2.0",
            "_model_name": "LayoutModel",
            "_view_count": null,
            "_view_module": "@jupyter-widgets/base",
            "_view_module_version": "1.2.0",
            "_view_name": "LayoutView",
            "align_content": null,
            "align_items": null,
            "align_self": null,
            "border": null,
            "bottom": null,
            "display": null,
            "flex": null,
            "flex_flow": null,
            "grid_area": null,
            "grid_auto_columns": null,
            "grid_auto_flow": null,
            "grid_auto_rows": null,
            "grid_column": null,
            "grid_gap": null,
            "grid_row": null,
            "grid_template_areas": null,
            "grid_template_columns": null,
            "grid_template_rows": null,
            "height": null,
            "justify_content": null,
            "justify_items": null,
            "left": null,
            "margin": null,
            "max_height": null,
            "max_width": null,
            "min_height": null,
            "min_width": null,
            "object_fit": null,
            "object_position": null,
            "order": null,
            "overflow": null,
            "overflow_x": null,
            "overflow_y": null,
            "padding": null,
            "right": null,
            "top": null,
            "visibility": null,
            "width": null
          }
        },
        "f052cb3a823e42da829f9d6c9791c0e5": {
          "model_module": "@jupyter-widgets/controls",
          "model_name": "DescriptionStyleModel",
          "model_module_version": "1.5.0",
          "state": {
            "_model_module": "@jupyter-widgets/controls",
            "_model_module_version": "1.5.0",
            "_model_name": "DescriptionStyleModel",
            "_view_count": null,
            "_view_module": "@jupyter-widgets/base",
            "_view_module_version": "1.2.0",
            "_view_name": "StyleView",
            "description_width": ""
          }
        },
        "39e388cedcf44a53a5ea5eaec1d2736c": {
          "model_module": "@jupyter-widgets/base",
          "model_name": "LayoutModel",
          "model_module_version": "1.2.0",
          "state": {
            "_model_module": "@jupyter-widgets/base",
            "_model_module_version": "1.2.0",
            "_model_name": "LayoutModel",
            "_view_count": null,
            "_view_module": "@jupyter-widgets/base",
            "_view_module_version": "1.2.0",
            "_view_name": "LayoutView",
            "align_content": null,
            "align_items": null,
            "align_self": null,
            "border": null,
            "bottom": null,
            "display": null,
            "flex": null,
            "flex_flow": null,
            "grid_area": null,
            "grid_auto_columns": null,
            "grid_auto_flow": null,
            "grid_auto_rows": null,
            "grid_column": null,
            "grid_gap": null,
            "grid_row": null,
            "grid_template_areas": null,
            "grid_template_columns": null,
            "grid_template_rows": null,
            "height": null,
            "justify_content": null,
            "justify_items": null,
            "left": null,
            "margin": null,
            "max_height": null,
            "max_width": null,
            "min_height": null,
            "min_width": null,
            "object_fit": null,
            "object_position": null,
            "order": null,
            "overflow": null,
            "overflow_x": null,
            "overflow_y": null,
            "padding": null,
            "right": null,
            "top": null,
            "visibility": null,
            "width": null
          }
        },
        "d5f11dd500a544c2aebe1038750bd896": {
          "model_module": "@jupyter-widgets/controls",
          "model_name": "ProgressStyleModel",
          "model_module_version": "1.5.0",
          "state": {
            "_model_module": "@jupyter-widgets/controls",
            "_model_module_version": "1.5.0",
            "_model_name": "ProgressStyleModel",
            "_view_count": null,
            "_view_module": "@jupyter-widgets/base",
            "_view_module_version": "1.2.0",
            "_view_name": "StyleView",
            "bar_color": null,
            "description_width": ""
          }
        },
        "1695e7d30b49452db0a3dedf3be13dc9": {
          "model_module": "@jupyter-widgets/base",
          "model_name": "LayoutModel",
          "model_module_version": "1.2.0",
          "state": {
            "_model_module": "@jupyter-widgets/base",
            "_model_module_version": "1.2.0",
            "_model_name": "LayoutModel",
            "_view_count": null,
            "_view_module": "@jupyter-widgets/base",
            "_view_module_version": "1.2.0",
            "_view_name": "LayoutView",
            "align_content": null,
            "align_items": null,
            "align_self": null,
            "border": null,
            "bottom": null,
            "display": null,
            "flex": null,
            "flex_flow": null,
            "grid_area": null,
            "grid_auto_columns": null,
            "grid_auto_flow": null,
            "grid_auto_rows": null,
            "grid_column": null,
            "grid_gap": null,
            "grid_row": null,
            "grid_template_areas": null,
            "grid_template_columns": null,
            "grid_template_rows": null,
            "height": null,
            "justify_content": null,
            "justify_items": null,
            "left": null,
            "margin": null,
            "max_height": null,
            "max_width": null,
            "min_height": null,
            "min_width": null,
            "object_fit": null,
            "object_position": null,
            "order": null,
            "overflow": null,
            "overflow_x": null,
            "overflow_y": null,
            "padding": null,
            "right": null,
            "top": null,
            "visibility": null,
            "width": null
          }
        },
        "be1e8c8b647a45c18c13ea007a4e60e0": {
          "model_module": "@jupyter-widgets/controls",
          "model_name": "DescriptionStyleModel",
          "model_module_version": "1.5.0",
          "state": {
            "_model_module": "@jupyter-widgets/controls",
            "_model_module_version": "1.5.0",
            "_model_name": "DescriptionStyleModel",
            "_view_count": null,
            "_view_module": "@jupyter-widgets/base",
            "_view_module_version": "1.2.0",
            "_view_name": "StyleView",
            "description_width": ""
          }
        },
        "3c300157bc564951a138c17eaddbc32b": {
          "model_module": "@jupyter-widgets/controls",
          "model_name": "HBoxModel",
          "model_module_version": "1.5.0",
          "state": {
            "_dom_classes": [],
            "_model_module": "@jupyter-widgets/controls",
            "_model_module_version": "1.5.0",
            "_model_name": "HBoxModel",
            "_view_count": null,
            "_view_module": "@jupyter-widgets/controls",
            "_view_module_version": "1.5.0",
            "_view_name": "HBoxView",
            "box_style": "",
            "children": [
              "IPY_MODEL_f49ea2767dc94f379344d09434b7c4d6",
              "IPY_MODEL_686a7fd454ea4afdbd12f4377a3b2147",
              "IPY_MODEL_4122a8a0b5074e15971dc75f6e1dfbf2"
            ],
            "layout": "IPY_MODEL_d04b6a57edbf4a94ac1ed2185005ac80"
          }
        },
        "f49ea2767dc94f379344d09434b7c4d6": {
          "model_module": "@jupyter-widgets/controls",
          "model_name": "HTMLModel",
          "model_module_version": "1.5.0",
          "state": {
            "_dom_classes": [],
            "_model_module": "@jupyter-widgets/controls",
            "_model_module_version": "1.5.0",
            "_model_name": "HTMLModel",
            "_view_count": null,
            "_view_module": "@jupyter-widgets/controls",
            "_view_module_version": "1.5.0",
            "_view_name": "HTMLView",
            "description": "",
            "description_tooltip": null,
            "layout": "IPY_MODEL_455ef9b3101247908f9c39ec96ebaa31",
            "placeholder": "​",
            "style": "IPY_MODEL_04bac13665324ddfa2fdb7b71fde3adc",
            "value": "vocab.txt: 100%"
          }
        },
        "686a7fd454ea4afdbd12f4377a3b2147": {
          "model_module": "@jupyter-widgets/controls",
          "model_name": "FloatProgressModel",
          "model_module_version": "1.5.0",
          "state": {
            "_dom_classes": [],
            "_model_module": "@jupyter-widgets/controls",
            "_model_module_version": "1.5.0",
            "_model_name": "FloatProgressModel",
            "_view_count": null,
            "_view_module": "@jupyter-widgets/controls",
            "_view_module_version": "1.5.0",
            "_view_name": "ProgressView",
            "bar_style": "success",
            "description": "",
            "description_tooltip": null,
            "layout": "IPY_MODEL_a7131c0e7e234d3bbbd4ed29dbca246d",
            "max": 213450,
            "min": 0,
            "orientation": "horizontal",
            "style": "IPY_MODEL_9e5f877376b24549a37fc467215a424d",
            "value": 213450
          }
        },
        "4122a8a0b5074e15971dc75f6e1dfbf2": {
          "model_module": "@jupyter-widgets/controls",
          "model_name": "HTMLModel",
          "model_module_version": "1.5.0",
          "state": {
            "_dom_classes": [],
            "_model_module": "@jupyter-widgets/controls",
            "_model_module_version": "1.5.0",
            "_model_name": "HTMLModel",
            "_view_count": null,
            "_view_module": "@jupyter-widgets/controls",
            "_view_module_version": "1.5.0",
            "_view_name": "HTMLView",
            "description": "",
            "description_tooltip": null,
            "layout": "IPY_MODEL_f4dd9e4d3d2847c089dba1dc58d17d38",
            "placeholder": "​",
            "style": "IPY_MODEL_adf08311863f48e4b4b51373e6778767",
            "value": " 213k/213k [00:00&lt;00:00, 1.64MB/s]"
          }
        },
        "d04b6a57edbf4a94ac1ed2185005ac80": {
          "model_module": "@jupyter-widgets/base",
          "model_name": "LayoutModel",
          "model_module_version": "1.2.0",
          "state": {
            "_model_module": "@jupyter-widgets/base",
            "_model_module_version": "1.2.0",
            "_model_name": "LayoutModel",
            "_view_count": null,
            "_view_module": "@jupyter-widgets/base",
            "_view_module_version": "1.2.0",
            "_view_name": "LayoutView",
            "align_content": null,
            "align_items": null,
            "align_self": null,
            "border": null,
            "bottom": null,
            "display": null,
            "flex": null,
            "flex_flow": null,
            "grid_area": null,
            "grid_auto_columns": null,
            "grid_auto_flow": null,
            "grid_auto_rows": null,
            "grid_column": null,
            "grid_gap": null,
            "grid_row": null,
            "grid_template_areas": null,
            "grid_template_columns": null,
            "grid_template_rows": null,
            "height": null,
            "justify_content": null,
            "justify_items": null,
            "left": null,
            "margin": null,
            "max_height": null,
            "max_width": null,
            "min_height": null,
            "min_width": null,
            "object_fit": null,
            "object_position": null,
            "order": null,
            "overflow": null,
            "overflow_x": null,
            "overflow_y": null,
            "padding": null,
            "right": null,
            "top": null,
            "visibility": null,
            "width": null
          }
        },
        "455ef9b3101247908f9c39ec96ebaa31": {
          "model_module": "@jupyter-widgets/base",
          "model_name": "LayoutModel",
          "model_module_version": "1.2.0",
          "state": {
            "_model_module": "@jupyter-widgets/base",
            "_model_module_version": "1.2.0",
            "_model_name": "LayoutModel",
            "_view_count": null,
            "_view_module": "@jupyter-widgets/base",
            "_view_module_version": "1.2.0",
            "_view_name": "LayoutView",
            "align_content": null,
            "align_items": null,
            "align_self": null,
            "border": null,
            "bottom": null,
            "display": null,
            "flex": null,
            "flex_flow": null,
            "grid_area": null,
            "grid_auto_columns": null,
            "grid_auto_flow": null,
            "grid_auto_rows": null,
            "grid_column": null,
            "grid_gap": null,
            "grid_row": null,
            "grid_template_areas": null,
            "grid_template_columns": null,
            "grid_template_rows": null,
            "height": null,
            "justify_content": null,
            "justify_items": null,
            "left": null,
            "margin": null,
            "max_height": null,
            "max_width": null,
            "min_height": null,
            "min_width": null,
            "object_fit": null,
            "object_position": null,
            "order": null,
            "overflow": null,
            "overflow_x": null,
            "overflow_y": null,
            "padding": null,
            "right": null,
            "top": null,
            "visibility": null,
            "width": null
          }
        },
        "04bac13665324ddfa2fdb7b71fde3adc": {
          "model_module": "@jupyter-widgets/controls",
          "model_name": "DescriptionStyleModel",
          "model_module_version": "1.5.0",
          "state": {
            "_model_module": "@jupyter-widgets/controls",
            "_model_module_version": "1.5.0",
            "_model_name": "DescriptionStyleModel",
            "_view_count": null,
            "_view_module": "@jupyter-widgets/base",
            "_view_module_version": "1.2.0",
            "_view_name": "StyleView",
            "description_width": ""
          }
        },
        "a7131c0e7e234d3bbbd4ed29dbca246d": {
          "model_module": "@jupyter-widgets/base",
          "model_name": "LayoutModel",
          "model_module_version": "1.2.0",
          "state": {
            "_model_module": "@jupyter-widgets/base",
            "_model_module_version": "1.2.0",
            "_model_name": "LayoutModel",
            "_view_count": null,
            "_view_module": "@jupyter-widgets/base",
            "_view_module_version": "1.2.0",
            "_view_name": "LayoutView",
            "align_content": null,
            "align_items": null,
            "align_self": null,
            "border": null,
            "bottom": null,
            "display": null,
            "flex": null,
            "flex_flow": null,
            "grid_area": null,
            "grid_auto_columns": null,
            "grid_auto_flow": null,
            "grid_auto_rows": null,
            "grid_column": null,
            "grid_gap": null,
            "grid_row": null,
            "grid_template_areas": null,
            "grid_template_columns": null,
            "grid_template_rows": null,
            "height": null,
            "justify_content": null,
            "justify_items": null,
            "left": null,
            "margin": null,
            "max_height": null,
            "max_width": null,
            "min_height": null,
            "min_width": null,
            "object_fit": null,
            "object_position": null,
            "order": null,
            "overflow": null,
            "overflow_x": null,
            "overflow_y": null,
            "padding": null,
            "right": null,
            "top": null,
            "visibility": null,
            "width": null
          }
        },
        "9e5f877376b24549a37fc467215a424d": {
          "model_module": "@jupyter-widgets/controls",
          "model_name": "ProgressStyleModel",
          "model_module_version": "1.5.0",
          "state": {
            "_model_module": "@jupyter-widgets/controls",
            "_model_module_version": "1.5.0",
            "_model_name": "ProgressStyleModel",
            "_view_count": null,
            "_view_module": "@jupyter-widgets/base",
            "_view_module_version": "1.2.0",
            "_view_name": "StyleView",
            "bar_color": null,
            "description_width": ""
          }
        },
        "f4dd9e4d3d2847c089dba1dc58d17d38": {
          "model_module": "@jupyter-widgets/base",
          "model_name": "LayoutModel",
          "model_module_version": "1.2.0",
          "state": {
            "_model_module": "@jupyter-widgets/base",
            "_model_module_version": "1.2.0",
            "_model_name": "LayoutModel",
            "_view_count": null,
            "_view_module": "@jupyter-widgets/base",
            "_view_module_version": "1.2.0",
            "_view_name": "LayoutView",
            "align_content": null,
            "align_items": null,
            "align_self": null,
            "border": null,
            "bottom": null,
            "display": null,
            "flex": null,
            "flex_flow": null,
            "grid_area": null,
            "grid_auto_columns": null,
            "grid_auto_flow": null,
            "grid_auto_rows": null,
            "grid_column": null,
            "grid_gap": null,
            "grid_row": null,
            "grid_template_areas": null,
            "grid_template_columns": null,
            "grid_template_rows": null,
            "height": null,
            "justify_content": null,
            "justify_items": null,
            "left": null,
            "margin": null,
            "max_height": null,
            "max_width": null,
            "min_height": null,
            "min_width": null,
            "object_fit": null,
            "object_position": null,
            "order": null,
            "overflow": null,
            "overflow_x": null,
            "overflow_y": null,
            "padding": null,
            "right": null,
            "top": null,
            "visibility": null,
            "width": null
          }
        },
        "adf08311863f48e4b4b51373e6778767": {
          "model_module": "@jupyter-widgets/controls",
          "model_name": "DescriptionStyleModel",
          "model_module_version": "1.5.0",
          "state": {
            "_model_module": "@jupyter-widgets/controls",
            "_model_module_version": "1.5.0",
            "_model_name": "DescriptionStyleModel",
            "_view_count": null,
            "_view_module": "@jupyter-widgets/base",
            "_view_module_version": "1.2.0",
            "_view_name": "StyleView",
            "description_width": ""
          }
        },
        "5c5a7ed67fed4443a4374ac02383b0ab": {
          "model_module": "@jupyter-widgets/controls",
          "model_name": "HBoxModel",
          "model_module_version": "1.5.0",
          "state": {
            "_dom_classes": [],
            "_model_module": "@jupyter-widgets/controls",
            "_model_module_version": "1.5.0",
            "_model_name": "HBoxModel",
            "_view_count": null,
            "_view_module": "@jupyter-widgets/controls",
            "_view_module_version": "1.5.0",
            "_view_name": "HBoxView",
            "box_style": "",
            "children": [
              "IPY_MODEL_0b3e735c71774fb7926872675fc8f0e4",
              "IPY_MODEL_63e456647b4b427b84dd7ded669f7c8e",
              "IPY_MODEL_6213dce9158849d0a71b09e87fa648c8"
            ],
            "layout": "IPY_MODEL_f7a1515be2e840299333f83972c73c7a"
          }
        },
        "0b3e735c71774fb7926872675fc8f0e4": {
          "model_module": "@jupyter-widgets/controls",
          "model_name": "HTMLModel",
          "model_module_version": "1.5.0",
          "state": {
            "_dom_classes": [],
            "_model_module": "@jupyter-widgets/controls",
            "_model_module_version": "1.5.0",
            "_model_name": "HTMLModel",
            "_view_count": null,
            "_view_module": "@jupyter-widgets/controls",
            "_view_module_version": "1.5.0",
            "_view_name": "HTMLView",
            "description": "",
            "description_tooltip": null,
            "layout": "IPY_MODEL_d612768af8fd49378609dc0a5642ca0f",
            "placeholder": "​",
            "style": "IPY_MODEL_b9b4103f9e324a348331f6dd93bd8060",
            "value": "tokenizer.json: 100%"
          }
        },
        "63e456647b4b427b84dd7ded669f7c8e": {
          "model_module": "@jupyter-widgets/controls",
          "model_name": "FloatProgressModel",
          "model_module_version": "1.5.0",
          "state": {
            "_dom_classes": [],
            "_model_module": "@jupyter-widgets/controls",
            "_model_module_version": "1.5.0",
            "_model_name": "FloatProgressModel",
            "_view_count": null,
            "_view_module": "@jupyter-widgets/controls",
            "_view_module_version": "1.5.0",
            "_view_name": "ProgressView",
            "bar_style": "success",
            "description": "",
            "description_tooltip": null,
            "layout": "IPY_MODEL_e1149d97eb454456aaf9ffc0bd68a3b1",
            "max": 435797,
            "min": 0,
            "orientation": "horizontal",
            "style": "IPY_MODEL_16449877d6b34c44a2e6c73a62215355",
            "value": 435797
          }
        },
        "6213dce9158849d0a71b09e87fa648c8": {
          "model_module": "@jupyter-widgets/controls",
          "model_name": "HTMLModel",
          "model_module_version": "1.5.0",
          "state": {
            "_dom_classes": [],
            "_model_module": "@jupyter-widgets/controls",
            "_model_module_version": "1.5.0",
            "_model_name": "HTMLModel",
            "_view_count": null,
            "_view_module": "@jupyter-widgets/controls",
            "_view_module_version": "1.5.0",
            "_view_name": "HTMLView",
            "description": "",
            "description_tooltip": null,
            "layout": "IPY_MODEL_15c6571ad9b64bbf8d8b15c2fb1a2ed8",
            "placeholder": "​",
            "style": "IPY_MODEL_e8c54d795c3245398db8d217566bdc97",
            "value": " 436k/436k [00:00&lt;00:00, 3.22MB/s]"
          }
        },
        "f7a1515be2e840299333f83972c73c7a": {
          "model_module": "@jupyter-widgets/base",
          "model_name": "LayoutModel",
          "model_module_version": "1.2.0",
          "state": {
            "_model_module": "@jupyter-widgets/base",
            "_model_module_version": "1.2.0",
            "_model_name": "LayoutModel",
            "_view_count": null,
            "_view_module": "@jupyter-widgets/base",
            "_view_module_version": "1.2.0",
            "_view_name": "LayoutView",
            "align_content": null,
            "align_items": null,
            "align_self": null,
            "border": null,
            "bottom": null,
            "display": null,
            "flex": null,
            "flex_flow": null,
            "grid_area": null,
            "grid_auto_columns": null,
            "grid_auto_flow": null,
            "grid_auto_rows": null,
            "grid_column": null,
            "grid_gap": null,
            "grid_row": null,
            "grid_template_areas": null,
            "grid_template_columns": null,
            "grid_template_rows": null,
            "height": null,
            "justify_content": null,
            "justify_items": null,
            "left": null,
            "margin": null,
            "max_height": null,
            "max_width": null,
            "min_height": null,
            "min_width": null,
            "object_fit": null,
            "object_position": null,
            "order": null,
            "overflow": null,
            "overflow_x": null,
            "overflow_y": null,
            "padding": null,
            "right": null,
            "top": null,
            "visibility": null,
            "width": null
          }
        },
        "d612768af8fd49378609dc0a5642ca0f": {
          "model_module": "@jupyter-widgets/base",
          "model_name": "LayoutModel",
          "model_module_version": "1.2.0",
          "state": {
            "_model_module": "@jupyter-widgets/base",
            "_model_module_version": "1.2.0",
            "_model_name": "LayoutModel",
            "_view_count": null,
            "_view_module": "@jupyter-widgets/base",
            "_view_module_version": "1.2.0",
            "_view_name": "LayoutView",
            "align_content": null,
            "align_items": null,
            "align_self": null,
            "border": null,
            "bottom": null,
            "display": null,
            "flex": null,
            "flex_flow": null,
            "grid_area": null,
            "grid_auto_columns": null,
            "grid_auto_flow": null,
            "grid_auto_rows": null,
            "grid_column": null,
            "grid_gap": null,
            "grid_row": null,
            "grid_template_areas": null,
            "grid_template_columns": null,
            "grid_template_rows": null,
            "height": null,
            "justify_content": null,
            "justify_items": null,
            "left": null,
            "margin": null,
            "max_height": null,
            "max_width": null,
            "min_height": null,
            "min_width": null,
            "object_fit": null,
            "object_position": null,
            "order": null,
            "overflow": null,
            "overflow_x": null,
            "overflow_y": null,
            "padding": null,
            "right": null,
            "top": null,
            "visibility": null,
            "width": null
          }
        },
        "b9b4103f9e324a348331f6dd93bd8060": {
          "model_module": "@jupyter-widgets/controls",
          "model_name": "DescriptionStyleModel",
          "model_module_version": "1.5.0",
          "state": {
            "_model_module": "@jupyter-widgets/controls",
            "_model_module_version": "1.5.0",
            "_model_name": "DescriptionStyleModel",
            "_view_count": null,
            "_view_module": "@jupyter-widgets/base",
            "_view_module_version": "1.2.0",
            "_view_name": "StyleView",
            "description_width": ""
          }
        },
        "e1149d97eb454456aaf9ffc0bd68a3b1": {
          "model_module": "@jupyter-widgets/base",
          "model_name": "LayoutModel",
          "model_module_version": "1.2.0",
          "state": {
            "_model_module": "@jupyter-widgets/base",
            "_model_module_version": "1.2.0",
            "_model_name": "LayoutModel",
            "_view_count": null,
            "_view_module": "@jupyter-widgets/base",
            "_view_module_version": "1.2.0",
            "_view_name": "LayoutView",
            "align_content": null,
            "align_items": null,
            "align_self": null,
            "border": null,
            "bottom": null,
            "display": null,
            "flex": null,
            "flex_flow": null,
            "grid_area": null,
            "grid_auto_columns": null,
            "grid_auto_flow": null,
            "grid_auto_rows": null,
            "grid_column": null,
            "grid_gap": null,
            "grid_row": null,
            "grid_template_areas": null,
            "grid_template_columns": null,
            "grid_template_rows": null,
            "height": null,
            "justify_content": null,
            "justify_items": null,
            "left": null,
            "margin": null,
            "max_height": null,
            "max_width": null,
            "min_height": null,
            "min_width": null,
            "object_fit": null,
            "object_position": null,
            "order": null,
            "overflow": null,
            "overflow_x": null,
            "overflow_y": null,
            "padding": null,
            "right": null,
            "top": null,
            "visibility": null,
            "width": null
          }
        },
        "16449877d6b34c44a2e6c73a62215355": {
          "model_module": "@jupyter-widgets/controls",
          "model_name": "ProgressStyleModel",
          "model_module_version": "1.5.0",
          "state": {
            "_model_module": "@jupyter-widgets/controls",
            "_model_module_version": "1.5.0",
            "_model_name": "ProgressStyleModel",
            "_view_count": null,
            "_view_module": "@jupyter-widgets/base",
            "_view_module_version": "1.2.0",
            "_view_name": "StyleView",
            "bar_color": null,
            "description_width": ""
          }
        },
        "15c6571ad9b64bbf8d8b15c2fb1a2ed8": {
          "model_module": "@jupyter-widgets/base",
          "model_name": "LayoutModel",
          "model_module_version": "1.2.0",
          "state": {
            "_model_module": "@jupyter-widgets/base",
            "_model_module_version": "1.2.0",
            "_model_name": "LayoutModel",
            "_view_count": null,
            "_view_module": "@jupyter-widgets/base",
            "_view_module_version": "1.2.0",
            "_view_name": "LayoutView",
            "align_content": null,
            "align_items": null,
            "align_self": null,
            "border": null,
            "bottom": null,
            "display": null,
            "flex": null,
            "flex_flow": null,
            "grid_area": null,
            "grid_auto_columns": null,
            "grid_auto_flow": null,
            "grid_auto_rows": null,
            "grid_column": null,
            "grid_gap": null,
            "grid_row": null,
            "grid_template_areas": null,
            "grid_template_columns": null,
            "grid_template_rows": null,
            "height": null,
            "justify_content": null,
            "justify_items": null,
            "left": null,
            "margin": null,
            "max_height": null,
            "max_width": null,
            "min_height": null,
            "min_width": null,
            "object_fit": null,
            "object_position": null,
            "order": null,
            "overflow": null,
            "overflow_x": null,
            "overflow_y": null,
            "padding": null,
            "right": null,
            "top": null,
            "visibility": null,
            "width": null
          }
        },
        "e8c54d795c3245398db8d217566bdc97": {
          "model_module": "@jupyter-widgets/controls",
          "model_name": "DescriptionStyleModel",
          "model_module_version": "1.5.0",
          "state": {
            "_model_module": "@jupyter-widgets/controls",
            "_model_module_version": "1.5.0",
            "_model_name": "DescriptionStyleModel",
            "_view_count": null,
            "_view_module": "@jupyter-widgets/base",
            "_view_module_version": "1.2.0",
            "_view_name": "StyleView",
            "description_width": ""
          }
        },
        "496c64149cc3430089f988351fb99c4a": {
          "model_module": "@jupyter-widgets/controls",
          "model_name": "HBoxModel",
          "model_module_version": "1.5.0",
          "state": {
            "_dom_classes": [],
            "_model_module": "@jupyter-widgets/controls",
            "_model_module_version": "1.5.0",
            "_model_name": "HBoxModel",
            "_view_count": null,
            "_view_module": "@jupyter-widgets/controls",
            "_view_module_version": "1.5.0",
            "_view_name": "HBoxView",
            "box_style": "",
            "children": [
              "IPY_MODEL_af8ece95e8754dd0862b03ad7214d7de",
              "IPY_MODEL_ace585a086d84b7a81bec107c5b4b293",
              "IPY_MODEL_f9bcd6aa62bf415591615c7eb8afb62f"
            ],
            "layout": "IPY_MODEL_3b846be153d044a4a732f67b2318983f"
          }
        },
        "af8ece95e8754dd0862b03ad7214d7de": {
          "model_module": "@jupyter-widgets/controls",
          "model_name": "HTMLModel",
          "model_module_version": "1.5.0",
          "state": {
            "_dom_classes": [],
            "_model_module": "@jupyter-widgets/controls",
            "_model_module_version": "1.5.0",
            "_model_name": "HTMLModel",
            "_view_count": null,
            "_view_module": "@jupyter-widgets/controls",
            "_view_module_version": "1.5.0",
            "_view_name": "HTMLView",
            "description": "",
            "description_tooltip": null,
            "layout": "IPY_MODEL_76e6ea171c724a7bb138a10251731ba7",
            "placeholder": "​",
            "style": "IPY_MODEL_a02c11ebdecf4b0cbe4d11993250ab86",
            "value": "config.json: 100%"
          }
        },
        "ace585a086d84b7a81bec107c5b4b293": {
          "model_module": "@jupyter-widgets/controls",
          "model_name": "FloatProgressModel",
          "model_module_version": "1.5.0",
          "state": {
            "_dom_classes": [],
            "_model_module": "@jupyter-widgets/controls",
            "_model_module_version": "1.5.0",
            "_model_name": "FloatProgressModel",
            "_view_count": null,
            "_view_module": "@jupyter-widgets/controls",
            "_view_module_version": "1.5.0",
            "_view_name": "ProgressView",
            "bar_style": "success",
            "description": "",
            "description_tooltip": null,
            "layout": "IPY_MODEL_36b446c1c5ff4be7b20598b61eaf3559",
            "max": 570,
            "min": 0,
            "orientation": "horizontal",
            "style": "IPY_MODEL_118297e9985d40b78cac3611426d2dcd",
            "value": 570
          }
        },
        "f9bcd6aa62bf415591615c7eb8afb62f": {
          "model_module": "@jupyter-widgets/controls",
          "model_name": "HTMLModel",
          "model_module_version": "1.5.0",
          "state": {
            "_dom_classes": [],
            "_model_module": "@jupyter-widgets/controls",
            "_model_module_version": "1.5.0",
            "_model_name": "HTMLModel",
            "_view_count": null,
            "_view_module": "@jupyter-widgets/controls",
            "_view_module_version": "1.5.0",
            "_view_name": "HTMLView",
            "description": "",
            "description_tooltip": null,
            "layout": "IPY_MODEL_bac07b0a2e1b42969b98405463bf6f10",
            "placeholder": "​",
            "style": "IPY_MODEL_ab740932c8f24c908aae5c48d1508eb6",
            "value": " 570/570 [00:00&lt;00:00, 37.0kB/s]"
          }
        },
        "3b846be153d044a4a732f67b2318983f": {
          "model_module": "@jupyter-widgets/base",
          "model_name": "LayoutModel",
          "model_module_version": "1.2.0",
          "state": {
            "_model_module": "@jupyter-widgets/base",
            "_model_module_version": "1.2.0",
            "_model_name": "LayoutModel",
            "_view_count": null,
            "_view_module": "@jupyter-widgets/base",
            "_view_module_version": "1.2.0",
            "_view_name": "LayoutView",
            "align_content": null,
            "align_items": null,
            "align_self": null,
            "border": null,
            "bottom": null,
            "display": null,
            "flex": null,
            "flex_flow": null,
            "grid_area": null,
            "grid_auto_columns": null,
            "grid_auto_flow": null,
            "grid_auto_rows": null,
            "grid_column": null,
            "grid_gap": null,
            "grid_row": null,
            "grid_template_areas": null,
            "grid_template_columns": null,
            "grid_template_rows": null,
            "height": null,
            "justify_content": null,
            "justify_items": null,
            "left": null,
            "margin": null,
            "max_height": null,
            "max_width": null,
            "min_height": null,
            "min_width": null,
            "object_fit": null,
            "object_position": null,
            "order": null,
            "overflow": null,
            "overflow_x": null,
            "overflow_y": null,
            "padding": null,
            "right": null,
            "top": null,
            "visibility": null,
            "width": null
          }
        },
        "76e6ea171c724a7bb138a10251731ba7": {
          "model_module": "@jupyter-widgets/base",
          "model_name": "LayoutModel",
          "model_module_version": "1.2.0",
          "state": {
            "_model_module": "@jupyter-widgets/base",
            "_model_module_version": "1.2.0",
            "_model_name": "LayoutModel",
            "_view_count": null,
            "_view_module": "@jupyter-widgets/base",
            "_view_module_version": "1.2.0",
            "_view_name": "LayoutView",
            "align_content": null,
            "align_items": null,
            "align_self": null,
            "border": null,
            "bottom": null,
            "display": null,
            "flex": null,
            "flex_flow": null,
            "grid_area": null,
            "grid_auto_columns": null,
            "grid_auto_flow": null,
            "grid_auto_rows": null,
            "grid_column": null,
            "grid_gap": null,
            "grid_row": null,
            "grid_template_areas": null,
            "grid_template_columns": null,
            "grid_template_rows": null,
            "height": null,
            "justify_content": null,
            "justify_items": null,
            "left": null,
            "margin": null,
            "max_height": null,
            "max_width": null,
            "min_height": null,
            "min_width": null,
            "object_fit": null,
            "object_position": null,
            "order": null,
            "overflow": null,
            "overflow_x": null,
            "overflow_y": null,
            "padding": null,
            "right": null,
            "top": null,
            "visibility": null,
            "width": null
          }
        },
        "a02c11ebdecf4b0cbe4d11993250ab86": {
          "model_module": "@jupyter-widgets/controls",
          "model_name": "DescriptionStyleModel",
          "model_module_version": "1.5.0",
          "state": {
            "_model_module": "@jupyter-widgets/controls",
            "_model_module_version": "1.5.0",
            "_model_name": "DescriptionStyleModel",
            "_view_count": null,
            "_view_module": "@jupyter-widgets/base",
            "_view_module_version": "1.2.0",
            "_view_name": "StyleView",
            "description_width": ""
          }
        },
        "36b446c1c5ff4be7b20598b61eaf3559": {
          "model_module": "@jupyter-widgets/base",
          "model_name": "LayoutModel",
          "model_module_version": "1.2.0",
          "state": {
            "_model_module": "@jupyter-widgets/base",
            "_model_module_version": "1.2.0",
            "_model_name": "LayoutModel",
            "_view_count": null,
            "_view_module": "@jupyter-widgets/base",
            "_view_module_version": "1.2.0",
            "_view_name": "LayoutView",
            "align_content": null,
            "align_items": null,
            "align_self": null,
            "border": null,
            "bottom": null,
            "display": null,
            "flex": null,
            "flex_flow": null,
            "grid_area": null,
            "grid_auto_columns": null,
            "grid_auto_flow": null,
            "grid_auto_rows": null,
            "grid_column": null,
            "grid_gap": null,
            "grid_row": null,
            "grid_template_areas": null,
            "grid_template_columns": null,
            "grid_template_rows": null,
            "height": null,
            "justify_content": null,
            "justify_items": null,
            "left": null,
            "margin": null,
            "max_height": null,
            "max_width": null,
            "min_height": null,
            "min_width": null,
            "object_fit": null,
            "object_position": null,
            "order": null,
            "overflow": null,
            "overflow_x": null,
            "overflow_y": null,
            "padding": null,
            "right": null,
            "top": null,
            "visibility": null,
            "width": null
          }
        },
        "118297e9985d40b78cac3611426d2dcd": {
          "model_module": "@jupyter-widgets/controls",
          "model_name": "ProgressStyleModel",
          "model_module_version": "1.5.0",
          "state": {
            "_model_module": "@jupyter-widgets/controls",
            "_model_module_version": "1.5.0",
            "_model_name": "ProgressStyleModel",
            "_view_count": null,
            "_view_module": "@jupyter-widgets/base",
            "_view_module_version": "1.2.0",
            "_view_name": "StyleView",
            "bar_color": null,
            "description_width": ""
          }
        },
        "bac07b0a2e1b42969b98405463bf6f10": {
          "model_module": "@jupyter-widgets/base",
          "model_name": "LayoutModel",
          "model_module_version": "1.2.0",
          "state": {
            "_model_module": "@jupyter-widgets/base",
            "_model_module_version": "1.2.0",
            "_model_name": "LayoutModel",
            "_view_count": null,
            "_view_module": "@jupyter-widgets/base",
            "_view_module_version": "1.2.0",
            "_view_name": "LayoutView",
            "align_content": null,
            "align_items": null,
            "align_self": null,
            "border": null,
            "bottom": null,
            "display": null,
            "flex": null,
            "flex_flow": null,
            "grid_area": null,
            "grid_auto_columns": null,
            "grid_auto_flow": null,
            "grid_auto_rows": null,
            "grid_column": null,
            "grid_gap": null,
            "grid_row": null,
            "grid_template_areas": null,
            "grid_template_columns": null,
            "grid_template_rows": null,
            "height": null,
            "justify_content": null,
            "justify_items": null,
            "left": null,
            "margin": null,
            "max_height": null,
            "max_width": null,
            "min_height": null,
            "min_width": null,
            "object_fit": null,
            "object_position": null,
            "order": null,
            "overflow": null,
            "overflow_x": null,
            "overflow_y": null,
            "padding": null,
            "right": null,
            "top": null,
            "visibility": null,
            "width": null
          }
        },
        "ab740932c8f24c908aae5c48d1508eb6": {
          "model_module": "@jupyter-widgets/controls",
          "model_name": "DescriptionStyleModel",
          "model_module_version": "1.5.0",
          "state": {
            "_model_module": "@jupyter-widgets/controls",
            "_model_module_version": "1.5.0",
            "_model_name": "DescriptionStyleModel",
            "_view_count": null,
            "_view_module": "@jupyter-widgets/base",
            "_view_module_version": "1.2.0",
            "_view_name": "StyleView",
            "description_width": ""
          }
        },
        "bdb7e09f603540aa9cf59b01b91b04aa": {
          "model_module": "@jupyter-widgets/controls",
          "model_name": "HBoxModel",
          "model_module_version": "1.5.0",
          "state": {
            "_dom_classes": [],
            "_model_module": "@jupyter-widgets/controls",
            "_model_module_version": "1.5.0",
            "_model_name": "HBoxModel",
            "_view_count": null,
            "_view_module": "@jupyter-widgets/controls",
            "_view_module_version": "1.5.0",
            "_view_name": "HBoxView",
            "box_style": "",
            "children": [
              "IPY_MODEL_702ba83cf1724de7ae92c1c892e712ca",
              "IPY_MODEL_e1607419ebba42a589ff53411469e64d",
              "IPY_MODEL_b6777e355c594c2ca50e32fd409a4107"
            ],
            "layout": "IPY_MODEL_dbae1cff672043858ea882b65987b073"
          }
        },
        "702ba83cf1724de7ae92c1c892e712ca": {
          "model_module": "@jupyter-widgets/controls",
          "model_name": "HTMLModel",
          "model_module_version": "1.5.0",
          "state": {
            "_dom_classes": [],
            "_model_module": "@jupyter-widgets/controls",
            "_model_module_version": "1.5.0",
            "_model_name": "HTMLModel",
            "_view_count": null,
            "_view_module": "@jupyter-widgets/controls",
            "_view_module_version": "1.5.0",
            "_view_name": "HTMLView",
            "description": "",
            "description_tooltip": null,
            "layout": "IPY_MODEL_cf86d7de0e814ef2b458c3da76a4cf2e",
            "placeholder": "​",
            "style": "IPY_MODEL_fa0cfc96c7aa44a5a46f2b43ecfe4dec",
            "value": "model.safetensors: 100%"
          }
        },
        "e1607419ebba42a589ff53411469e64d": {
          "model_module": "@jupyter-widgets/controls",
          "model_name": "FloatProgressModel",
          "model_module_version": "1.5.0",
          "state": {
            "_dom_classes": [],
            "_model_module": "@jupyter-widgets/controls",
            "_model_module_version": "1.5.0",
            "_model_name": "FloatProgressModel",
            "_view_count": null,
            "_view_module": "@jupyter-widgets/controls",
            "_view_module_version": "1.5.0",
            "_view_name": "ProgressView",
            "bar_style": "success",
            "description": "",
            "description_tooltip": null,
            "layout": "IPY_MODEL_4cec10019c2b48a49ccd54f1a59db40a",
            "max": 435755784,
            "min": 0,
            "orientation": "horizontal",
            "style": "IPY_MODEL_c6b7f66baf084607b252cb3f28fe1ded",
            "value": 435755784
          }
        },
        "b6777e355c594c2ca50e32fd409a4107": {
          "model_module": "@jupyter-widgets/controls",
          "model_name": "HTMLModel",
          "model_module_version": "1.5.0",
          "state": {
            "_dom_classes": [],
            "_model_module": "@jupyter-widgets/controls",
            "_model_module_version": "1.5.0",
            "_model_name": "HTMLModel",
            "_view_count": null,
            "_view_module": "@jupyter-widgets/controls",
            "_view_module_version": "1.5.0",
            "_view_name": "HTMLView",
            "description": "",
            "description_tooltip": null,
            "layout": "IPY_MODEL_a16e63d1e58e401e8a7fd35c804860f8",
            "placeholder": "​",
            "style": "IPY_MODEL_de766e77057545e29c28b593ac25caad",
            "value": " 436M/436M [00:02&lt;00:00, 207MB/s]"
          }
        },
        "dbae1cff672043858ea882b65987b073": {
          "model_module": "@jupyter-widgets/base",
          "model_name": "LayoutModel",
          "model_module_version": "1.2.0",
          "state": {
            "_model_module": "@jupyter-widgets/base",
            "_model_module_version": "1.2.0",
            "_model_name": "LayoutModel",
            "_view_count": null,
            "_view_module": "@jupyter-widgets/base",
            "_view_module_version": "1.2.0",
            "_view_name": "LayoutView",
            "align_content": null,
            "align_items": null,
            "align_self": null,
            "border": null,
            "bottom": null,
            "display": null,
            "flex": null,
            "flex_flow": null,
            "grid_area": null,
            "grid_auto_columns": null,
            "grid_auto_flow": null,
            "grid_auto_rows": null,
            "grid_column": null,
            "grid_gap": null,
            "grid_row": null,
            "grid_template_areas": null,
            "grid_template_columns": null,
            "grid_template_rows": null,
            "height": null,
            "justify_content": null,
            "justify_items": null,
            "left": null,
            "margin": null,
            "max_height": null,
            "max_width": null,
            "min_height": null,
            "min_width": null,
            "object_fit": null,
            "object_position": null,
            "order": null,
            "overflow": null,
            "overflow_x": null,
            "overflow_y": null,
            "padding": null,
            "right": null,
            "top": null,
            "visibility": null,
            "width": null
          }
        },
        "cf86d7de0e814ef2b458c3da76a4cf2e": {
          "model_module": "@jupyter-widgets/base",
          "model_name": "LayoutModel",
          "model_module_version": "1.2.0",
          "state": {
            "_model_module": "@jupyter-widgets/base",
            "_model_module_version": "1.2.0",
            "_model_name": "LayoutModel",
            "_view_count": null,
            "_view_module": "@jupyter-widgets/base",
            "_view_module_version": "1.2.0",
            "_view_name": "LayoutView",
            "align_content": null,
            "align_items": null,
            "align_self": null,
            "border": null,
            "bottom": null,
            "display": null,
            "flex": null,
            "flex_flow": null,
            "grid_area": null,
            "grid_auto_columns": null,
            "grid_auto_flow": null,
            "grid_auto_rows": null,
            "grid_column": null,
            "grid_gap": null,
            "grid_row": null,
            "grid_template_areas": null,
            "grid_template_columns": null,
            "grid_template_rows": null,
            "height": null,
            "justify_content": null,
            "justify_items": null,
            "left": null,
            "margin": null,
            "max_height": null,
            "max_width": null,
            "min_height": null,
            "min_width": null,
            "object_fit": null,
            "object_position": null,
            "order": null,
            "overflow": null,
            "overflow_x": null,
            "overflow_y": null,
            "padding": null,
            "right": null,
            "top": null,
            "visibility": null,
            "width": null
          }
        },
        "fa0cfc96c7aa44a5a46f2b43ecfe4dec": {
          "model_module": "@jupyter-widgets/controls",
          "model_name": "DescriptionStyleModel",
          "model_module_version": "1.5.0",
          "state": {
            "_model_module": "@jupyter-widgets/controls",
            "_model_module_version": "1.5.0",
            "_model_name": "DescriptionStyleModel",
            "_view_count": null,
            "_view_module": "@jupyter-widgets/base",
            "_view_module_version": "1.2.0",
            "_view_name": "StyleView",
            "description_width": ""
          }
        },
        "4cec10019c2b48a49ccd54f1a59db40a": {
          "model_module": "@jupyter-widgets/base",
          "model_name": "LayoutModel",
          "model_module_version": "1.2.0",
          "state": {
            "_model_module": "@jupyter-widgets/base",
            "_model_module_version": "1.2.0",
            "_model_name": "LayoutModel",
            "_view_count": null,
            "_view_module": "@jupyter-widgets/base",
            "_view_module_version": "1.2.0",
            "_view_name": "LayoutView",
            "align_content": null,
            "align_items": null,
            "align_self": null,
            "border": null,
            "bottom": null,
            "display": null,
            "flex": null,
            "flex_flow": null,
            "grid_area": null,
            "grid_auto_columns": null,
            "grid_auto_flow": null,
            "grid_auto_rows": null,
            "grid_column": null,
            "grid_gap": null,
            "grid_row": null,
            "grid_template_areas": null,
            "grid_template_columns": null,
            "grid_template_rows": null,
            "height": null,
            "justify_content": null,
            "justify_items": null,
            "left": null,
            "margin": null,
            "max_height": null,
            "max_width": null,
            "min_height": null,
            "min_width": null,
            "object_fit": null,
            "object_position": null,
            "order": null,
            "overflow": null,
            "overflow_x": null,
            "overflow_y": null,
            "padding": null,
            "right": null,
            "top": null,
            "visibility": null,
            "width": null
          }
        },
        "c6b7f66baf084607b252cb3f28fe1ded": {
          "model_module": "@jupyter-widgets/controls",
          "model_name": "ProgressStyleModel",
          "model_module_version": "1.5.0",
          "state": {
            "_model_module": "@jupyter-widgets/controls",
            "_model_module_version": "1.5.0",
            "_model_name": "ProgressStyleModel",
            "_view_count": null,
            "_view_module": "@jupyter-widgets/base",
            "_view_module_version": "1.2.0",
            "_view_name": "StyleView",
            "bar_color": null,
            "description_width": ""
          }
        },
        "a16e63d1e58e401e8a7fd35c804860f8": {
          "model_module": "@jupyter-widgets/base",
          "model_name": "LayoutModel",
          "model_module_version": "1.2.0",
          "state": {
            "_model_module": "@jupyter-widgets/base",
            "_model_module_version": "1.2.0",
            "_model_name": "LayoutModel",
            "_view_count": null,
            "_view_module": "@jupyter-widgets/base",
            "_view_module_version": "1.2.0",
            "_view_name": "LayoutView",
            "align_content": null,
            "align_items": null,
            "align_self": null,
            "border": null,
            "bottom": null,
            "display": null,
            "flex": null,
            "flex_flow": null,
            "grid_area": null,
            "grid_auto_columns": null,
            "grid_auto_flow": null,
            "grid_auto_rows": null,
            "grid_column": null,
            "grid_gap": null,
            "grid_row": null,
            "grid_template_areas": null,
            "grid_template_columns": null,
            "grid_template_rows": null,
            "height": null,
            "justify_content": null,
            "justify_items": null,
            "left": null,
            "margin": null,
            "max_height": null,
            "max_width": null,
            "min_height": null,
            "min_width": null,
            "object_fit": null,
            "object_position": null,
            "order": null,
            "overflow": null,
            "overflow_x": null,
            "overflow_y": null,
            "padding": null,
            "right": null,
            "top": null,
            "visibility": null,
            "width": null
          }
        },
        "de766e77057545e29c28b593ac25caad": {
          "model_module": "@jupyter-widgets/controls",
          "model_name": "DescriptionStyleModel",
          "model_module_version": "1.5.0",
          "state": {
            "_model_module": "@jupyter-widgets/controls",
            "_model_module_version": "1.5.0",
            "_model_name": "DescriptionStyleModel",
            "_view_count": null,
            "_view_module": "@jupyter-widgets/base",
            "_view_module_version": "1.2.0",
            "_view_name": "StyleView",
            "description_width": ""
          }
        }
      }
    }
  },
  "nbformat": 4,
  "nbformat_minor": 0
}